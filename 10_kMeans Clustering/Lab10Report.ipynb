{
 "cells": [
  {
   "cell_type": "markdown",
   "metadata": {},
   "source": [
    "# 2022 NBA Player Performance Report"
   ]
  },
  {
   "cell_type": "markdown",
   "metadata": {},
   "source": [
    "This report is an evaluation of player performance thoroughout the 2022 season in comparison to their salary. The goal of this report is to identify players who are overpaid and underpaid based on their performance. The report will also identify players who are overpaid and underpaid based on their performance in comparison to their peers. This information is useful to us because it allows us to get a broad look at how the players are performing and whether there are any underdogs or overcompensated players whose performance is not up to par with their salary."
   ]
  },
  {
   "cell_type": "markdown",
   "metadata": {},
   "source": [
    "## Data Processing"
   ]
  },
  {
   "cell_type": "markdown",
   "metadata": {},
   "source": [
    "Our import libraries:"
   ]
  },
  {
   "cell_type": "code",
   "execution_count": 2,
   "metadata": {},
   "outputs": [],
   "source": [
    "import pandas as pd\n",
    "import numpy as np\n",
    "import plotly.express as px\n",
    "import plotly.graph_objects as go\n",
    "from sklearn.cluster import KMeans\n",
    "from sklearn.model_selection import train_test_split\n",
    "from sklearn.tree import DecisionTreeClassifier\n",
    "from sklearn.metrics import confusion_matrix\n",
    "from sklearn.preprocessing import MinMaxScaler, StandardScaler"
   ]
  },
  {
   "cell_type": "markdown",
   "metadata": {},
   "source": [
    "## First Step: Data Cleanup"
   ]
  },
  {
   "cell_type": "markdown",
   "metadata": {},
   "source": [
    "The first thing we want to do to build our model is pull all of our needed information together. We have player stats as well as information about their salary that we want to incorporate. Once we have combined our data, we can then choose which features we want to use in our model and which ones we don't. We will also need to clean up our data to make sure that it is in the correct format for our model. We first dropped rows that had missing data that we couldn't work with. This data won't be helpful for our model and we don't need it. We secondly dropped columns that repeated information already available in our table. This will make the model better and faster as we won't be repeating inputs. "
   ]
  },
  {
   "cell_type": "code",
   "execution_count": 3,
   "metadata": {},
   "outputs": [
    {
     "data": {
      "text/html": [
       "<div>\n",
       "<style scoped>\n",
       "    .dataframe tbody tr th:only-of-type {\n",
       "        vertical-align: middle;\n",
       "    }\n",
       "\n",
       "    .dataframe tbody tr th {\n",
       "        vertical-align: top;\n",
       "    }\n",
       "\n",
       "    .dataframe thead th {\n",
       "        text-align: right;\n",
       "    }\n",
       "</style>\n",
       "<table border=\"1\" class=\"dataframe\">\n",
       "  <thead>\n",
       "    <tr style=\"text-align: right;\">\n",
       "      <th></th>\n",
       "      <th>Age</th>\n",
       "      <th>G</th>\n",
       "      <th>GS</th>\n",
       "      <th>MP</th>\n",
       "      <th>FG%</th>\n",
       "      <th>3P%</th>\n",
       "      <th>2P%</th>\n",
       "      <th>eFG%</th>\n",
       "      <th>FT%</th>\n",
       "      <th>ORB</th>\n",
       "      <th>DRB</th>\n",
       "      <th>TRB</th>\n",
       "      <th>AST</th>\n",
       "      <th>STL</th>\n",
       "      <th>BLK</th>\n",
       "      <th>TOV</th>\n",
       "      <th>PF</th>\n",
       "      <th>PTS</th>\n",
       "    </tr>\n",
       "  </thead>\n",
       "  <tbody>\n",
       "    <tr>\n",
       "      <th>0</th>\n",
       "      <td>22</td>\n",
       "      <td>73</td>\n",
       "      <td>28</td>\n",
       "      <td>23.6</td>\n",
       "      <td>0.439</td>\n",
       "      <td>0.359</td>\n",
       "      <td>0.468</td>\n",
       "      <td>0.486</td>\n",
       "      <td>0.595</td>\n",
       "      <td>2.0</td>\n",
       "      <td>4.5</td>\n",
       "      <td>6.5</td>\n",
       "      <td>1.1</td>\n",
       "      <td>0.5</td>\n",
       "      <td>0.6</td>\n",
       "      <td>1.2</td>\n",
       "      <td>2.1</td>\n",
       "      <td>9.1</td>\n",
       "    </tr>\n",
       "    <tr>\n",
       "      <th>1</th>\n",
       "      <td>28</td>\n",
       "      <td>76</td>\n",
       "      <td>75</td>\n",
       "      <td>26.3</td>\n",
       "      <td>0.547</td>\n",
       "      <td>0.000</td>\n",
       "      <td>0.548</td>\n",
       "      <td>0.547</td>\n",
       "      <td>0.543</td>\n",
       "      <td>4.6</td>\n",
       "      <td>5.4</td>\n",
       "      <td>10.0</td>\n",
       "      <td>3.4</td>\n",
       "      <td>0.9</td>\n",
       "      <td>0.8</td>\n",
       "      <td>1.5</td>\n",
       "      <td>2.0</td>\n",
       "      <td>6.9</td>\n",
       "    </tr>\n",
       "    <tr>\n",
       "      <th>2</th>\n",
       "      <td>24</td>\n",
       "      <td>56</td>\n",
       "      <td>56</td>\n",
       "      <td>32.6</td>\n",
       "      <td>0.557</td>\n",
       "      <td>0.000</td>\n",
       "      <td>0.562</td>\n",
       "      <td>0.557</td>\n",
       "      <td>0.753</td>\n",
       "      <td>2.4</td>\n",
       "      <td>7.6</td>\n",
       "      <td>10.1</td>\n",
       "      <td>3.4</td>\n",
       "      <td>1.4</td>\n",
       "      <td>0.8</td>\n",
       "      <td>2.6</td>\n",
       "      <td>3.1</td>\n",
       "      <td>19.1</td>\n",
       "    </tr>\n",
       "    <tr>\n",
       "      <th>3</th>\n",
       "      <td>21</td>\n",
       "      <td>32</td>\n",
       "      <td>0</td>\n",
       "      <td>11.3</td>\n",
       "      <td>0.402</td>\n",
       "      <td>0.125</td>\n",
       "      <td>0.560</td>\n",
       "      <td>0.424</td>\n",
       "      <td>0.625</td>\n",
       "      <td>1.0</td>\n",
       "      <td>1.7</td>\n",
       "      <td>2.7</td>\n",
       "      <td>0.7</td>\n",
       "      <td>0.2</td>\n",
       "      <td>0.3</td>\n",
       "      <td>0.5</td>\n",
       "      <td>1.1</td>\n",
       "      <td>4.1</td>\n",
       "    </tr>\n",
       "    <tr>\n",
       "      <th>4</th>\n",
       "      <td>23</td>\n",
       "      <td>65</td>\n",
       "      <td>21</td>\n",
       "      <td>22.6</td>\n",
       "      <td>0.372</td>\n",
       "      <td>0.311</td>\n",
       "      <td>0.433</td>\n",
       "      <td>0.449</td>\n",
       "      <td>0.743</td>\n",
       "      <td>0.6</td>\n",
       "      <td>2.3</td>\n",
       "      <td>2.9</td>\n",
       "      <td>2.4</td>\n",
       "      <td>0.7</td>\n",
       "      <td>0.4</td>\n",
       "      <td>1.4</td>\n",
       "      <td>1.6</td>\n",
       "      <td>10.6</td>\n",
       "    </tr>\n",
       "    <tr>\n",
       "      <th>...</th>\n",
       "      <td>...</td>\n",
       "      <td>...</td>\n",
       "      <td>...</td>\n",
       "      <td>...</td>\n",
       "      <td>...</td>\n",
       "      <td>...</td>\n",
       "      <td>...</td>\n",
       "      <td>...</td>\n",
       "      <td>...</td>\n",
       "      <td>...</td>\n",
       "      <td>...</td>\n",
       "      <td>...</td>\n",
       "      <td>...</td>\n",
       "      <td>...</td>\n",
       "      <td>...</td>\n",
       "      <td>...</td>\n",
       "      <td>...</td>\n",
       "      <td>...</td>\n",
       "    </tr>\n",
       "    <tr>\n",
       "      <th>498</th>\n",
       "      <td>33</td>\n",
       "      <td>52</td>\n",
       "      <td>1</td>\n",
       "      <td>16.3</td>\n",
       "      <td>0.518</td>\n",
       "      <td>0.354</td>\n",
       "      <td>0.554</td>\n",
       "      <td>0.550</td>\n",
       "      <td>0.469</td>\n",
       "      <td>1.5</td>\n",
       "      <td>2.5</td>\n",
       "      <td>4.0</td>\n",
       "      <td>2.0</td>\n",
       "      <td>1.0</td>\n",
       "      <td>0.3</td>\n",
       "      <td>1.0</td>\n",
       "      <td>1.6</td>\n",
       "      <td>6.2</td>\n",
       "    </tr>\n",
       "    <tr>\n",
       "      <th>499</th>\n",
       "      <td>33</td>\n",
       "      <td>26</td>\n",
       "      <td>1</td>\n",
       "      <td>14.2</td>\n",
       "      <td>0.578</td>\n",
       "      <td>0.000</td>\n",
       "      <td>0.602</td>\n",
       "      <td>0.578</td>\n",
       "      <td>0.455</td>\n",
       "      <td>1.5</td>\n",
       "      <td>2.0</td>\n",
       "      <td>3.6</td>\n",
       "      <td>2.3</td>\n",
       "      <td>0.9</td>\n",
       "      <td>0.3</td>\n",
       "      <td>1.2</td>\n",
       "      <td>1.5</td>\n",
       "      <td>6.1</td>\n",
       "    </tr>\n",
       "    <tr>\n",
       "      <th>500</th>\n",
       "      <td>33</td>\n",
       "      <td>26</td>\n",
       "      <td>0</td>\n",
       "      <td>18.3</td>\n",
       "      <td>0.465</td>\n",
       "      <td>0.395</td>\n",
       "      <td>0.495</td>\n",
       "      <td>0.524</td>\n",
       "      <td>0.481</td>\n",
       "      <td>1.5</td>\n",
       "      <td>2.9</td>\n",
       "      <td>4.4</td>\n",
       "      <td>1.7</td>\n",
       "      <td>1.2</td>\n",
       "      <td>0.4</td>\n",
       "      <td>0.8</td>\n",
       "      <td>1.7</td>\n",
       "      <td>6.3</td>\n",
       "    </tr>\n",
       "    <tr>\n",
       "      <th>501</th>\n",
       "      <td>23</td>\n",
       "      <td>76</td>\n",
       "      <td>76</td>\n",
       "      <td>34.9</td>\n",
       "      <td>0.460</td>\n",
       "      <td>0.382</td>\n",
       "      <td>0.512</td>\n",
       "      <td>0.536</td>\n",
       "      <td>0.904</td>\n",
       "      <td>0.7</td>\n",
       "      <td>3.1</td>\n",
       "      <td>3.7</td>\n",
       "      <td>9.7</td>\n",
       "      <td>0.9</td>\n",
       "      <td>0.1</td>\n",
       "      <td>4.0</td>\n",
       "      <td>1.7</td>\n",
       "      <td>28.4</td>\n",
       "    </tr>\n",
       "    <tr>\n",
       "      <th>502</th>\n",
       "      <td>23</td>\n",
       "      <td>56</td>\n",
       "      <td>12</td>\n",
       "      <td>12.6</td>\n",
       "      <td>0.526</td>\n",
       "      <td>0.091</td>\n",
       "      <td>0.547</td>\n",
       "      <td>0.528</td>\n",
       "      <td>0.623</td>\n",
       "      <td>1.5</td>\n",
       "      <td>3.7</td>\n",
       "      <td>5.3</td>\n",
       "      <td>0.9</td>\n",
       "      <td>0.3</td>\n",
       "      <td>0.4</td>\n",
       "      <td>0.7</td>\n",
       "      <td>1.5</td>\n",
       "      <td>5.3</td>\n",
       "    </tr>\n",
       "  </tbody>\n",
       "</table>\n",
       "<p>466 rows × 18 columns</p>\n",
       "</div>"
      ],
      "text/plain": [
       "     Age   G  GS    MP    FG%    3P%    2P%   eFG%    FT%  ORB  DRB   TRB  \\\n",
       "0     22  73  28  23.6  0.439  0.359  0.468  0.486  0.595  2.0  4.5   6.5   \n",
       "1     28  76  75  26.3  0.547  0.000  0.548  0.547  0.543  4.6  5.4  10.0   \n",
       "2     24  56  56  32.6  0.557  0.000  0.562  0.557  0.753  2.4  7.6  10.1   \n",
       "3     21  32   0  11.3  0.402  0.125  0.560  0.424  0.625  1.0  1.7   2.7   \n",
       "4     23  65  21  22.6  0.372  0.311  0.433  0.449  0.743  0.6  2.3   2.9   \n",
       "..   ...  ..  ..   ...    ...    ...    ...    ...    ...  ...  ...   ...   \n",
       "498   33  52   1  16.3  0.518  0.354  0.554  0.550  0.469  1.5  2.5   4.0   \n",
       "499   33  26   1  14.2  0.578  0.000  0.602  0.578  0.455  1.5  2.0   3.6   \n",
       "500   33  26   0  18.3  0.465  0.395  0.495  0.524  0.481  1.5  2.9   4.4   \n",
       "501   23  76  76  34.9  0.460  0.382  0.512  0.536  0.904  0.7  3.1   3.7   \n",
       "502   23  56  12  12.6  0.526  0.091  0.547  0.528  0.623  1.5  3.7   5.3   \n",
       "\n",
       "     AST  STL  BLK  TOV   PF   PTS  \n",
       "0    1.1  0.5  0.6  1.2  2.1   9.1  \n",
       "1    3.4  0.9  0.8  1.5  2.0   6.9  \n",
       "2    3.4  1.4  0.8  2.6  3.1  19.1  \n",
       "3    0.7  0.2  0.3  0.5  1.1   4.1  \n",
       "4    2.4  0.7  0.4  1.4  1.6  10.6  \n",
       "..   ...  ...  ...  ...  ...   ...  \n",
       "498  2.0  1.0  0.3  1.0  1.6   6.2  \n",
       "499  2.3  0.9  0.3  1.2  1.5   6.1  \n",
       "500  1.7  1.2  0.4  0.8  1.7   6.3  \n",
       "501  9.7  0.9  0.1  4.0  1.7  28.4  \n",
       "502  0.9  0.3  0.4  0.7  1.5   5.3  \n",
       "\n",
       "[466 rows x 18 columns]"
      ]
     },
     "execution_count": 3,
     "metadata": {},
     "output_type": "execute_result"
    }
   ],
   "source": [
    "NBA_Perf_22 = pd.read_csv(\"data/NBA_Perf_22.csv\", encoding='latin-1')\n",
    "NBA_salaries_22 = pd.read_csv(\"data/nba_salaries_22.csv\")\n",
    "NBA_22 = pd.merge(NBA_Perf_22, NBA_salaries_22, on='Player', how='inner')\n",
    "NBA_22 = NBA_22.dropna()\n",
    "drop_cols = [1, 3, 7, 8, 10, 11, 13, 14, 17, 18]\n",
    "eNBA_22 = NBA_22.drop(NBA_22.columns[drop_cols], axis=1)\n",
    "salary_array = eNBA_22.Salary.str.replace('[\\$,]', '', regex=True).fillna(0).astype(int)\n",
    "player_array = eNBA_22.Player\n",
    "y = eNBA_22.drop(['Salary', \"Player\"], axis=1)\n",
    "y"
   ]
  },
  {
   "cell_type": "markdown",
   "metadata": {},
   "source": [
    "## Second Step: Data Analysis"
   ]
  },
  {
   "cell_type": "markdown",
   "metadata": {},
   "source": [
    "Now that we have our table of needed information, we can move onto building our model. We will be using a clustering model that will group players based on their performance and salary. This will allow us to identify players who are overpaid and underpaid based on their performance. To make the information in our table usable for the model, we have to scale everything to fit between 0 and 1 so that the model can properly evaluate the data."
   ]
  },
  {
   "cell_type": "code",
   "execution_count": 4,
   "metadata": {},
   "outputs": [
    {
     "data": {
      "text/html": [
       "<div>\n",
       "<style scoped>\n",
       "    .dataframe tbody tr th:only-of-type {\n",
       "        vertical-align: middle;\n",
       "    }\n",
       "\n",
       "    .dataframe tbody tr th {\n",
       "        vertical-align: top;\n",
       "    }\n",
       "\n",
       "    .dataframe thead th {\n",
       "        text-align: right;\n",
       "    }\n",
       "</style>\n",
       "<table border=\"1\" class=\"dataframe\">\n",
       "  <thead>\n",
       "    <tr style=\"text-align: right;\">\n",
       "      <th></th>\n",
       "      <th>Age</th>\n",
       "      <th>G</th>\n",
       "      <th>GS</th>\n",
       "      <th>MP</th>\n",
       "      <th>FG%</th>\n",
       "      <th>3P%</th>\n",
       "      <th>2P%</th>\n",
       "      <th>eFG%</th>\n",
       "      <th>FT%</th>\n",
       "      <th>ORB</th>\n",
       "      <th>DRB</th>\n",
       "      <th>TRB</th>\n",
       "      <th>AST</th>\n",
       "      <th>STL</th>\n",
       "      <th>BLK</th>\n",
       "      <th>TOV</th>\n",
       "      <th>PF</th>\n",
       "      <th>PTS</th>\n",
       "    </tr>\n",
       "  </thead>\n",
       "  <tbody>\n",
       "    <tr>\n",
       "      <th>0</th>\n",
       "      <td>0.136364</td>\n",
       "      <td>0.888889</td>\n",
       "      <td>0.341463</td>\n",
       "      <td>0.591429</td>\n",
       "      <td>0.445896</td>\n",
       "      <td>0.359</td>\n",
       "      <td>0.290667</td>\n",
       "      <td>0.533582</td>\n",
       "      <td>0.392804</td>\n",
       "      <td>0.434783</td>\n",
       "      <td>0.392523</td>\n",
       "      <td>0.426573</td>\n",
       "      <td>0.101852</td>\n",
       "      <td>0.227273</td>\n",
       "      <td>0.214286</td>\n",
       "      <td>0.250000</td>\n",
       "      <td>0.408163</td>\n",
       "      <td>0.273649</td>\n",
       "    </tr>\n",
       "    <tr>\n",
       "      <th>1</th>\n",
       "      <td>0.409091</td>\n",
       "      <td>0.925926</td>\n",
       "      <td>0.914634</td>\n",
       "      <td>0.668571</td>\n",
       "      <td>0.647388</td>\n",
       "      <td>0.000</td>\n",
       "      <td>0.397333</td>\n",
       "      <td>0.647388</td>\n",
       "      <td>0.314843</td>\n",
       "      <td>1.000000</td>\n",
       "      <td>0.476636</td>\n",
       "      <td>0.671329</td>\n",
       "      <td>0.314815</td>\n",
       "      <td>0.409091</td>\n",
       "      <td>0.285714</td>\n",
       "      <td>0.312500</td>\n",
       "      <td>0.387755</td>\n",
       "      <td>0.199324</td>\n",
       "    </tr>\n",
       "    <tr>\n",
       "      <th>2</th>\n",
       "      <td>0.227273</td>\n",
       "      <td>0.679012</td>\n",
       "      <td>0.682927</td>\n",
       "      <td>0.848571</td>\n",
       "      <td>0.666045</td>\n",
       "      <td>0.000</td>\n",
       "      <td>0.416000</td>\n",
       "      <td>0.666045</td>\n",
       "      <td>0.629685</td>\n",
       "      <td>0.521739</td>\n",
       "      <td>0.682243</td>\n",
       "      <td>0.678322</td>\n",
       "      <td>0.314815</td>\n",
       "      <td>0.636364</td>\n",
       "      <td>0.285714</td>\n",
       "      <td>0.541667</td>\n",
       "      <td>0.612245</td>\n",
       "      <td>0.611486</td>\n",
       "    </tr>\n",
       "    <tr>\n",
       "      <th>3</th>\n",
       "      <td>0.090909</td>\n",
       "      <td>0.382716</td>\n",
       "      <td>0.000000</td>\n",
       "      <td>0.240000</td>\n",
       "      <td>0.376866</td>\n",
       "      <td>0.125</td>\n",
       "      <td>0.413333</td>\n",
       "      <td>0.417910</td>\n",
       "      <td>0.437781</td>\n",
       "      <td>0.217391</td>\n",
       "      <td>0.130841</td>\n",
       "      <td>0.160839</td>\n",
       "      <td>0.064815</td>\n",
       "      <td>0.090909</td>\n",
       "      <td>0.107143</td>\n",
       "      <td>0.104167</td>\n",
       "      <td>0.204082</td>\n",
       "      <td>0.104730</td>\n",
       "    </tr>\n",
       "    <tr>\n",
       "      <th>4</th>\n",
       "      <td>0.181818</td>\n",
       "      <td>0.790123</td>\n",
       "      <td>0.256098</td>\n",
       "      <td>0.562857</td>\n",
       "      <td>0.320896</td>\n",
       "      <td>0.311</td>\n",
       "      <td>0.244000</td>\n",
       "      <td>0.464552</td>\n",
       "      <td>0.614693</td>\n",
       "      <td>0.130435</td>\n",
       "      <td>0.186916</td>\n",
       "      <td>0.174825</td>\n",
       "      <td>0.222222</td>\n",
       "      <td>0.318182</td>\n",
       "      <td>0.142857</td>\n",
       "      <td>0.291667</td>\n",
       "      <td>0.306122</td>\n",
       "      <td>0.324324</td>\n",
       "    </tr>\n",
       "  </tbody>\n",
       "</table>\n",
       "</div>"
      ],
      "text/plain": [
       "        Age         G        GS        MP       FG%    3P%       2P%  \\\n",
       "0  0.136364  0.888889  0.341463  0.591429  0.445896  0.359  0.290667   \n",
       "1  0.409091  0.925926  0.914634  0.668571  0.647388  0.000  0.397333   \n",
       "2  0.227273  0.679012  0.682927  0.848571  0.666045  0.000  0.416000   \n",
       "3  0.090909  0.382716  0.000000  0.240000  0.376866  0.125  0.413333   \n",
       "4  0.181818  0.790123  0.256098  0.562857  0.320896  0.311  0.244000   \n",
       "\n",
       "       eFG%       FT%       ORB       DRB       TRB       AST       STL  \\\n",
       "0  0.533582  0.392804  0.434783  0.392523  0.426573  0.101852  0.227273   \n",
       "1  0.647388  0.314843  1.000000  0.476636  0.671329  0.314815  0.409091   \n",
       "2  0.666045  0.629685  0.521739  0.682243  0.678322  0.314815  0.636364   \n",
       "3  0.417910  0.437781  0.217391  0.130841  0.160839  0.064815  0.090909   \n",
       "4  0.464552  0.614693  0.130435  0.186916  0.174825  0.222222  0.318182   \n",
       "\n",
       "        BLK       TOV        PF       PTS  \n",
       "0  0.214286  0.250000  0.408163  0.273649  \n",
       "1  0.285714  0.312500  0.387755  0.199324  \n",
       "2  0.285714  0.541667  0.612245  0.611486  \n",
       "3  0.107143  0.104167  0.204082  0.104730  \n",
       "4  0.142857  0.291667  0.306122  0.324324  "
      ]
     },
     "execution_count": 4,
     "metadata": {},
     "output_type": "execute_result"
    }
   ],
   "source": [
    "numbers_listing = list(y.select_dtypes('number'))\n",
    "y[numbers_listing] = MinMaxScaler().fit_transform(y[numbers_listing])\n",
    "y.head()"
   ]
  },
  {
   "cell_type": "markdown",
   "metadata": {},
   "source": [
    "Oh boy! This is confusing. Let's try to make sense of this by modeling it in a graph. We want to use variables from the table that will best isolate underperforming and overpaid players from underpaid and well-performing players. While we could use all of the variables, we want to use the ones that will give us the best results. Building a model takes time and we had to try many different combinations, but the ones that gave us the best results were Field Goal percentages, total points, and total assists."
   ]
  },
  {
   "cell_type": "code",
   "execution_count": 13,
   "metadata": {},
   "outputs": [
    {
     "name": "stderr",
     "output_type": "stream",
     "text": [
      "/Users/Luke/anaconda3/envs/sklearn-env/lib/python3.11/site-packages/sklearn/cluster/_kmeans.py:1412: FutureWarning:\n",
      "\n",
      "The default value of `n_init` will change from 10 to 'auto' in 1.4. Set the value of `n_init` explicitly to suppress the warning\n",
      "\n"
     ]
    },
    {
     "data": {
      "application/vnd.plotly.v1+json": {
       "config": {
        "plotlyServerURL": "https://plot.ly"
       },
       "data": [
        {
         "customdata": [
          [
           "Precious Achiuwa"
          ],
          [
           "Steven Adams"
          ],
          [
           "Bam Adebayo"
          ],
          [
           "Santi Aldama"
          ],
          [
           "Nickeil Alexander-Walker"
          ],
          [
           "Nickeil Alexander-Walker"
          ],
          [
           "Nickeil Alexander-Walker"
          ],
          [
           "Grayson Allen"
          ],
          [
           "Jarrett Allen"
          ],
          [
           "Jose Alvarado"
          ],
          [
           "Kyle Anderson"
          ],
          [
           "Giannis Antetokounmpo"
          ],
          [
           "Thanasis Antetokounmpo"
          ],
          [
           "Cole Anthony"
          ],
          [
           "OG Anunoby"
          ],
          [
           "D.J. Augustin"
          ],
          [
           "D.J. Augustin"
          ],
          [
           "D.J. Augustin"
          ],
          [
           "Deni Avdija"
          ],
          [
           "Deandre Ayton"
          ],
          [
           "Marvin Bagley III"
          ],
          [
           "Marvin Bagley III"
          ],
          [
           "Marvin Bagley III"
          ],
          [
           "LaMelo Ball"
          ],
          [
           "Lonzo Ball"
          ],
          [
           "Mo Bamba"
          ],
          [
           "Desmond Bane"
          ],
          [
           "Dalano Banton"
          ],
          [
           "Harrison Barnes"
          ],
          [
           "Scottie Barnes"
          ],
          [
           "RJ Barrett"
          ],
          [
           "Will Barton"
          ],
          [
           "Charles Bassey"
          ],
          [
           "Keita Bates-Diop"
          ],
          [
           "Nicolas Batum"
          ],
          [
           "Nicolas Batum"
          ],
          [
           "Darius Bazley"
          ],
          [
           "Bradley Beal"
          ],
          [
           "Malik Beasley"
          ],
          [
           "Patrick Beverley"
          ],
          [
           "Saddiq Bey"
          ],
          [
           "Khem Birch"
          ],
          [
           "Goga Bitadze"
          ],
          [
           "Eric Bledsoe"
          ],
          [
           "Bol Bol"
          ],
          [
           "Leandro Bolmaro"
          ],
          [
           "Devin Booker"
          ],
          [
           "Brandon Boston Jr."
          ],
          [
           "Chris Boucher"
          ],
          [
           "James Bouknight"
          ],
          [
           "Mikal Bridges"
          ],
          [
           "Oshae Brissett"
          ],
          [
           "Malcolm Brogdon"
          ],
          [
           "Dillon Brooks"
          ],
          [
           "Bruce Brown"
          ],
          [
           "Greg Brown III"
          ],
          [
           "Jaylen Brown"
          ],
          [
           "Sterling Brown"
          ],
          [
           "Troy Brown Jr."
          ],
          [
           "Jalen Brunson"
          ],
          [
           "Thomas Bryant"
          ],
          [
           "Reggie Bullock"
          ],
          [
           "Alec Burks"
          ],
          [
           "Jared Butler"
          ],
          [
           "Jimmy Butler"
          ],
          [
           "Kentavious Caldwell-Pope"
          ],
          [
           "Facundo Campazzo"
          ],
          [
           "Clint Capela"
          ],
          [
           "Jevon Carter"
          ],
          [
           "Jevon Carter"
          ],
          [
           "Jevon Carter"
          ],
          [
           "Jevon Carter"
          ],
          [
           "Jevon Carter"
          ],
          [
           "Jevon Carter"
          ],
          [
           "Wendell Carter Jr."
          ],
          [
           "Alex Caruso"
          ],
          [
           "Justin Champagnie"
          ],
          [
           "Marquese Chriss"
          ],
          [
           "Josh Christopher"
          ],
          [
           "Brandon Clarke"
          ],
          [
           "Jordan Clarkson"
          ],
          [
           "Amir Coffey"
          ],
          [
           "John Collins"
          ],
          [
           "Zach Collins"
          ],
          [
           "Mike Conley"
          ],
          [
           "Pat Connaughton"
          ],
          [
           "Robert Covington"
          ],
          [
           "Robert Covington"
          ],
          [
           "Robert Covington"
          ],
          [
           "Torrey Craig"
          ],
          [
           "Torrey Craig"
          ],
          [
           "Torrey Craig"
          ],
          [
           "Jae Crowder"
          ],
          [
           "Cade Cunningham"
          ],
          [
           "Seth Curry"
          ],
          [
           "Seth Curry"
          ],
          [
           "Seth Curry"
          ],
          [
           "Stephen Curry"
          ],
          [
           "Anthony Davis"
          ],
          [
           "Terence Davis"
          ],
          [
           "Dewayne Dedmon"
          ],
          [
           "Dewayne Dedmon"
          ],
          [
           "DeMar DeRozan"
          ],
          [
           "Hamidou Diallo"
          ],
          [
           "Gorgui Dieng"
          ],
          [
           "Spencer Dinwiddie"
          ],
          [
           "Spencer Dinwiddie"
          ],
          [
           "Spencer Dinwiddie"
          ],
          [
           "Donte DiVincenzo"
          ],
          [
           "Donte DiVincenzo"
          ],
          [
           "Donte DiVincenzo"
          ],
          [
           "Luguentz Dort"
          ],
          [
           "Ayo Dosunmu"
          ],
          [
           "Andre Drummond"
          ],
          [
           "Andre Drummond"
          ],
          [
           "Andre Drummond"
          ],
          [
           "Chris Duarte"
          ],
          [
           "Kevin Durant"
          ],
          [
           "Anthony Edwards"
          ],
          [
           "Kessler Edwards"
          ],
          [
           "Joel Embiid"
          ],
          [
           "Drew Eubanks"
          ],
          [
           "Drew Eubanks"
          ],
          [
           "Drew Eubanks"
          ],
          [
           "Derrick Favors"
          ],
          [
           "Bruno Fernando"
          ],
          [
           "Bruno Fernando"
          ],
          [
           "Bruno Fernando"
          ],
          [
           "Dorian Finney-Smith"
          ],
          [
           "Malachi Flynn"
          ],
          [
           "Bryn Forbes"
          ],
          [
           "Bryn Forbes"
          ],
          [
           "Bryn Forbes"
          ],
          [
           "Evan Fournier"
          ],
          [
           "De'Aaron Fox"
          ],
          [
           "Markelle Fultz"
          ],
          [
           "Wenyen Gabriel"
          ],
          [
           "Wenyen Gabriel"
          ],
          [
           "Wenyen Gabriel"
          ],
          [
           "Daniel Gafford"
          ],
          [
           "Danilo Gallinari"
          ],
          [
           "Danilo Gallinari"
          ],
          [
           "Darius Garland"
          ],
          [
           "Usman Garuba"
          ],
          [
           "Rudy Gay"
          ],
          [
           "Paul George"
          ],
          [
           "Taj Gibson"
          ],
          [
           "Josh Giddey"
          ],
          [
           "Shai Gilgeous-Alexander"
          ],
          [
           "Anthony Gill"
          ],
          [
           "Rudy Gobert"
          ],
          [
           "Aaron Gordon"
          ],
          [
           "Eric Gordon"
          ],
          [
           "Devonte' Graham"
          ],
          [
           "Jerami Grant"
          ],
          [
           "Danny Green"
          ],
          [
           "Draymond Green"
          ],
          [
           "Jalen Green"
          ],
          [
           "JaMychal Green"
          ],
          [
           "JaMychal Green"
          ],
          [
           "Javonte Green"
          ],
          [
           "Jeff Green"
          ],
          [
           "Josh Green"
          ],
          [
           "Blake Griffin"
          ],
          [
           "Quentin Grimes"
          ],
          [
           "Rui Hachimura"
          ],
          [
           "Tyrese Haliburton"
          ],
          [
           "Tyrese Haliburton"
          ],
          [
           "Tyrese Haliburton"
          ],
          [
           "R.J. Hampton"
          ],
          [
           "Tim Hardaway Jr."
          ],
          [
           "James Harden"
          ],
          [
           "James Harden"
          ],
          [
           "James Harden"
          ],
          [
           "Maurice Harkless"
          ],
          [
           "Montrezl Harrell"
          ],
          [
           "Montrezl Harrell"
          ],
          [
           "Montrezl Harrell"
          ],
          [
           "Gary Harris"
          ],
          [
           "Joe Harris"
          ],
          [
           "Tobias Harris"
          ],
          [
           "Josh Hart"
          ],
          [
           "Josh Hart"
          ],
          [
           "Josh Hart"
          ],
          [
           "Isaiah Hartenstein"
          ],
          [
           "Udonis Haslem"
          ],
          [
           "Jaxson Hayes"
          ],
          [
           "Killian Hayes"
          ],
          [
           "Gordon Hayward"
          ],
          [
           "Tyler Herro"
          ],
          [
           "Buddy Hield"
          ],
          [
           "Buddy Hield"
          ],
          [
           "Buddy Hield"
          ],
          [
           "Haywood Highsmith"
          ],
          [
           "George Hill"
          ],
          [
           "Aaron Holiday"
          ],
          [
           "Aaron Holiday"
          ],
          [
           "Aaron Holiday"
          ],
          [
           "Jrue Holiday"
          ],
          [
           "Justin Holiday"
          ],
          [
           "Justin Holiday"
          ],
          [
           "Justin Holiday"
          ],
          [
           "Richaun Holmes"
          ],
          [
           "Al Horford"
          ],
          [
           "Talen Horton-Tucker"
          ],
          [
           "Danuel House Jr."
          ],
          [
           "Danuel House Jr."
          ],
          [
           "Danuel House Jr."
          ],
          [
           "Kevin Huerter"
          ],
          [
           "De'Andre Hunter"
          ],
          [
           "Bones Hyland"
          ],
          [
           "Serge Ibaka"
          ],
          [
           "Serge Ibaka"
          ],
          [
           "Serge Ibaka"
          ],
          [
           "Andre Iguodala"
          ],
          [
           "Joe Ingles"
          ],
          [
           "Brandon Ingram"
          ],
          [
           "Kyrie Irving"
          ],
          [
           "Isaiah Jackson"
          ],
          [
           "Jaren Jackson Jr."
          ],
          [
           "Justin Jackson"
          ],
          [
           "Reggie Jackson"
          ],
          [
           "LeBron James"
          ],
          [
           "Ty Jerome"
          ],
          [
           "Isaiah Joe"
          ],
          [
           "Cameron Johnson"
          ],
          [
           "Jalen Johnson"
          ],
          [
           "James Johnson"
          ],
          [
           "Keldon Johnson"
          ],
          [
           "Keon Johnson"
          ],
          [
           "Keon Johnson"
          ],
          [
           "Keon Johnson"
          ],
          [
           "Stanley Johnson"
          ],
          [
           "Damian Jones"
          ],
          [
           "Derrick Jones Jr."
          ],
          [
           "Herbert Jones"
          ],
          [
           "Kai Jones"
          ],
          [
           "Tre Jones"
          ],
          [
           "Tyus Jones"
          ],
          [
           "Cory Joseph"
          ],
          [
           "Frank Kaminsky"
          ],
          [
           "Luke Kennard"
          ],
          [
           "Corey Kispert"
          ],
          [
           "Maxi Kleber"
          ],
          [
           "Nathan Knight"
          ],
          [
           "Kevin Knox"
          ],
          [
           "Kevin Knox"
          ],
          [
           "Kevin Knox"
          ],
          [
           "John Konchar"
          ],
          [
           "Furkan Korkmaz"
          ],
          [
           "Luke Kornet"
          ],
          [
           "Luke Kornet"
          ],
          [
           "Luke Kornet"
          ],
          [
           "Vit Krejci"
          ],
          [
           "Jonathan Kuminga"
          ],
          [
           "Kyle Kuzma"
          ],
          [
           "Jock Landale"
          ],
          [
           "Romeo Langford"
          ],
          [
           "Romeo Langford"
          ],
          [
           "Romeo Langford"
          ],
          [
           "Zach LaVine"
          ],
          [
           "Damion Lee"
          ],
          [
           "Saben Lee"
          ],
          [
           "Alex Len"
          ],
          [
           "Caris LeVert"
          ],
          [
           "Caris LeVert"
          ],
          [
           "Caris LeVert"
          ],
          [
           "Kira Lewis Jr."
          ],
          [
           "Damian Lillard"
          ],
          [
           "Nassir Little"
          ],
          [
           "Isaiah Livers"
          ],
          [
           "Kevon Looney"
          ],
          [
           "Brook Lopez"
          ],
          [
           "Robin Lopez"
          ],
          [
           "Didi Louzada"
          ],
          [
           "Didi Louzada"
          ],
          [
           "Kevin Love"
          ],
          [
           "Kyle Lowry"
          ],
          [
           "Trey Lyles"
          ],
          [
           "Trey Lyles"
          ],
          [
           "Trey Lyles"
          ],
          [
           "Terance Mann"
          ],
          [
           "Tre Mann"
          ],
          [
           "Lauri Markkanen"
          ],
          [
           "Naji Marshall"
          ],
          [
           "Caleb Martin"
          ],
          [
           "Cody Martin"
          ],
          [
           "Kenyon Martin Jr."
          ],
          [
           "Garrison Mathews"
          ],
          [
           "Wesley Matthews"
          ],
          [
           "Tyrese Maxey"
          ],
          [
           "Miles McBride"
          ],
          [
           "Mac McClung"
          ],
          [
           "Mac McClung"
          ],
          [
           "CJ McCollum"
          ],
          [
           "CJ McCollum"
          ],
          [
           "CJ McCollum"
          ],
          [
           "T.J. McConnell"
          ],
          [
           "Jaden McDaniels"
          ],
          [
           "Jalen McDaniels"
          ],
          [
           "Doug McDermott"
          ],
          [
           "JaVale McGee"
          ],
          [
           "Rodney McGruder"
          ],
          [
           "Jordan McLaughlin"
          ],
          [
           "De'Anthony Melton"
          ],
          [
           "Sam Merrill"
          ],
          [
           "Chimezie Metu"
          ],
          [
           "Khris Middleton"
          ],
          [
           "Patty Mills"
          ],
          [
           "Shake Milton"
          ],
          [
           "Davion Mitchell"
          ],
          [
           "Donovan Mitchell"
          ],
          [
           "Evan Mobley"
          ],
          [
           "Malik Monk"
          ],
          [
           "Moses Moody"
          ],
          [
           "Ja Morant"
          ],
          [
           "Marcus Morris"
          ],
          [
           "Markieff Morris"
          ],
          [
           "Monte Morris"
          ],
          [
           "Trey Murphy III"
          ],
          [
           "Dejounte Murray"
          ],
          [
           "Mike Muscala"
          ],
          [
           "Svi Mykhailiuk"
          ],
          [
           "Svi Mykhailiuk"
          ],
          [
           "Larry Nance Jr."
          ],
          [
           "Larry Nance Jr."
          ],
          [
           "Larry Nance Jr."
          ],
          [
           "Aaron Nesmith"
          ],
          [
           "Raul Neto"
          ],
          [
           "Georges Niang"
          ],
          [
           "Daishen Nix"
          ],
          [
           "Zeke Nnaji"
          ],
          [
           "Nerlens Noel"
          ],
          [
           "Jaylen Nowell"
          ],
          [
           "Frank Ntilikina"
          ],
          [
           "David Nwaba"
          ],
          [
           "Jordan Nwora"
          ],
          [
           "Royce O'Neale"
          ],
          [
           "Chuma Okeke"
          ],
          [
           "Josh Okogie"
          ],
          [
           "Isaac Okoro"
          ],
          [
           "KZ Okpala"
          ],
          [
           "Victor Oladipo"
          ],
          [
           "Kelly Olynyk"
          ],
          [
           "Cedi Osman"
          ],
          [
           "Kelly Oubre Jr."
          ],
          [
           "Chris Paul"
          ],
          [
           "Cameron Payne"
          ],
          [
           "Gary Payton II"
          ],
          [
           "Theo Pinson"
          ],
          [
           "Mason Plumlee"
          ],
          [
           "Jakob Poeltl"
          ],
          [
           "Aleksej Pokusevski"
          ],
          [
           "Jordan Poole"
          ],
          [
           "Kevin Porter Jr."
          ],
          [
           "Michael Porter Jr."
          ],
          [
           "Otto Porter Jr."
          ],
          [
           "Bobby Portis"
          ],
          [
           "Dwight Powell"
          ],
          [
           "Norman Powell"
          ],
          [
           "Norman Powell"
          ],
          [
           "Norman Powell"
          ],
          [
           "Joshua Primo"
          ],
          [
           "Taurean Prince"
          ],
          [
           "Payton Pritchard"
          ],
          [
           "Trevelin Queen"
          ],
          [
           "Immanuel Quickley"
          ],
          [
           "Julius Randle"
          ],
          [
           "Austin Reaves"
          ],
          [
           "Cam Reddish"
          ],
          [
           "Cam Reddish"
          ],
          [
           "Cam Reddish"
          ],
          [
           "Davon Reed"
          ],
          [
           "Paul Reed"
          ],
          [
           "Naz Reid"
          ],
          [
           "Josh Richardson"
          ],
          [
           "Josh Richardson"
          ],
          [
           "Josh Richardson"
          ],
          [
           "Austin Rivers"
          ],
          [
           "Duncan Robinson"
          ],
          [
           "Jeremiah Robinson-Earl"
          ],
          [
           "Isaiah Roby"
          ],
          [
           "Derrick Rose"
          ],
          [
           "Terrence Ross"
          ],
          [
           "Terry Rozier"
          ],
          [
           "Ricky Rubio"
          ],
          [
           "D'Angelo Russell"
          ],
          [
           "Domantas Sabonis"
          ],
          [
           "Domantas Sabonis"
          ],
          [
           "Domantas Sabonis"
          ],
          [
           "Collin Sexton"
          ],
          [
           "Landry Shamet"
          ],
          [
           "Day'Ron Sharpe"
          ],
          [
           "Pascal Siakam"
          ],
          [
           "Marko Simonovic"
          ],
          [
           "Anfernee Simons"
          ],
          [
           "Marcus Smart"
          ],
          [
           "Dennis Smith Jr."
          ],
          [
           "Ish Smith"
          ],
          [
           "Ish Smith"
          ],
          [
           "Ish Smith"
          ],
          [
           "Jalen Smith"
          ],
          [
           "Jalen Smith"
          ],
          [
           "Jalen Smith"
          ],
          [
           "Nik Stauskas"
          ],
          [
           "Nik Stauskas"
          ],
          [
           "Lamar Stevens"
          ],
          [
           "Isaiah Stewart"
          ],
          [
           "Max Strus"
          ],
          [
           "Jalen Suggs"
          ],
          [
           "Jae'Sean Tate"
          ],
          [
           "Jayson Tatum"
          ],
          [
           "Terry Taylor"
          ],
          [
           "Garrett Temple"
          ],
          [
           "Daniel Theis"
          ],
          [
           "Daniel Theis"
          ],
          [
           "Daniel Theis"
          ],
          [
           "Cam Thomas"
          ],
          [
           "Klay Thompson"
          ],
          [
           "JT Thor"
          ],
          [
           "Matisse Thybulle"
          ],
          [
           "Xavier Tillman Sr."
          ],
          [
           "Isaiah Todd"
          ],
          [
           "Obi Toppin"
          ],
          [
           "Juan Toscano-Anderson"
          ],
          [
           "Karl-Anthony Towns"
          ],
          [
           "Gary Trent Jr."
          ],
          [
           "P.J. Tucker"
          ],
          [
           "Myles Turner"
          ],
          [
           "Jarred Vanderbilt"
          ],
          [
           "Fred VanVleet"
          ],
          [
           "Devin Vassell"
          ],
          [
           "Gabe Vincent"
          ],
          [
           "Dean Wade"
          ],
          [
           "Franz Wagner"
          ],
          [
           "Moritz Wagner"
          ],
          [
           "Kemba Walker"
          ],
          [
           "Kemba Walker"
          ],
          [
           "Lonnie Walker IV"
          ],
          [
           "P.J. Washington"
          ],
          [
           "Yuta Watanabe"
          ],
          [
           "Trendon Watford"
          ],
          [
           "Russell Westbrook"
          ],
          [
           "Coby White"
          ],
          [
           "Derrick White"
          ],
          [
           "Derrick White"
          ],
          [
           "Derrick White"
          ],
          [
           "Aaron Wiggins"
          ],
          [
           "Andrew Wiggins"
          ],
          [
           "Grant Williams"
          ],
          [
           "Kenrich Williams"
          ],
          [
           "Patrick Williams"
          ],
          [
           "Robert Williams"
          ],
          [
           "Ziaire Williams"
          ],
          [
           "D.J. Wilson"
          ],
          [
           "Dylan Windler"
          ],
          [
           "Justise Winslow"
          ],
          [
           "Justise Winslow"
          ],
          [
           "Justise Winslow"
          ],
          [
           "Christian Wood"
          ],
          [
           "Delon Wright"
          ],
          [
           "Thaddeus Young"
          ],
          [
           "Thaddeus Young"
          ],
          [
           "Thaddeus Young"
          ],
          [
           "Trae Young"
          ],
          [
           "Omer Yurtseven"
          ]
         ],
         "hovertemplate": "FG%=%{x}<br>PTS=%{y}<br>AST=%{z}<br>hover_data_0=%{customdata[0]}<br>color=%{marker.color}<extra></extra>",
         "legendgroup": "",
         "marker": {
          "color": [
           2840160,
           17926829,
           30351780,
           2094120,
           5009633,
           5009633,
           5009633,
           8500000,
           20000000,
           1563518,
           8780488,
           42492492,
           1878720,
           3613680,
           17357143,
           333333,
           333333,
           333333,
           4916160,
           30913750,
           12500000,
           12500000,
           12500000,
           8623920,
           19534884,
           10300000,
           2130240,
           1563518,
           18352273,
           7644600,
           10900635,
           14375000,
           74742,
           1878720,
           19700319,
           19700319,
           4264629,
           43279250,
           15558035,
           13000000,
           2959080,
           6667500,
           4765339,
           1300000,
           2200000,
           2471160,
           33833400,
           1563518,
           12690000,
           4362240,
           20100000,
           1846738,
           22600000,
           11400000,
           6479000,
           1563518,
           28741071,
           3000000,
           1836090,
           27733332,
           1836090,
           10012800,
           10012800,
           1563518,
           37653300,
           14004703,
           1836090,
           18706896,
           6025000,
           6025000,
           6025000,
           6025000,
           6025000,
           6025000,
           14150000,
           9030000,
           1637966,
           2193920,
           2372160,
           4343920,
           13340000,
           3395062,
           23500000,
           7350000,
           22680000,
           5728393,
           12307692,
           12307692,
           12307692,
           5121951,
           5121951,
           5121951,
           10183800,
           10552800,
           8496653,
           8496653,
           8496653,
           48070014,
           37980720,
           4000000,
           7566667,
           7566667,
           27300000,
           5200000,
           1836090,
           20171427,
           20171427,
           20171427,
           4500000,
           4500000,
           4500000,
           15277778,
           1563518,
           3200000,
           3200000,
           3200000,
           3936960,
           44119845,
           10733400,
           1637966,
           33616770,
           1836090,
           1836090,
           1836090,
           10183800,
           2717391,
           2717391,
           2717391,
           12402000,
           2145720,
           1836090,
           1836090,
           1836090,
           18000000,
           30351780,
           16500000,
           1878720,
           1878720,
           1878720,
           1930681,
           16907880,
           16907880,
           8920795,
           2471160,
           6184500,
           42492492,
           1836090,
           6287400,
           30913750,
           1836090,
           38172414,
           19690909,
           19568360,
           11550000,
           20955000,
           10000000,
           25806468,
           9441840,
           10036090,
           10036090,
           1815677,
           4500000,
           3098400,
           1836090,
           2277000,
           6263188,
           4215120,
           4215120,
           4215120,
           2412840,
           19602273,
           33000000,
           33000000,
           33000000,
           4564980,
           2463490,
           2463490,
           2463490,
           13000000,
           18642857,
           37633050,
           12960000,
           12960000,
           12960000,
           7804879,
           1836090,
           6803012,
           5837760,
           30075000,
           5722116,
           21177750,
           21177750,
           21177750,
           1752638,
           4000000,
           1836090,
           1836090,
           1836090,
           33665040,
           6292440,
           6292440,
           6292440,
           11215260,
           26500000,
           10260000,
           4105000,
           4105000,
           4105000,
           14508929,
           9835881,
           2201520,
           1836090,
           1836090,
           1836090,
           1836090,
           6479000,
           31650600,
           36934550,
           2573760,
           28946605,
           1836090,
           11215260,
           44474988,
           4220057,
           1836090,
           5887899,
           2792640,
           1836090,
           3873025,
           2681040,
           2681040,
           2681040,
           2351521,
           2298385,
           3200000,
           1785000,
           2909040,
           1782621,
           15000000,
           5155500,
           1836090,
           14415545,
           3552840,
           9000000,
           1836090,
           3000000,
           3000000,
           3000000,
           2300000,
           5000000,
           2133278,
           2133278,
           2133278,
           1563518,
           5739840,
           13000000,
           1563518,
           5634257,
           5634257,
           5634257,
           37096500,
           1836090,
           1752638,
           3918600,
           18796296,
           18796296,
           18796296,
           4004280,
           42492492,
           4171548,
           1563518,
           8000000,
           13906976,
           1836090,
           268032,
           268032,
           28942830,
           28333334,
           2625000,
           2625000,
           2625000,
           1930681,
           3046200,
           16475454,
           1782621,
           6479000,
           7000000,
           1782621,
           2000000,
           1836090,
           2726880,
           1563518,
           1637966,
           1637966,
           33333333,
           33333333,
           33333333,
           8100000,
           2161440,
           1930681,
           13750000,
           5461219,
           1836090,
           2160000,
           8250000,
           150000,
           1910860,
           37948276,
           6479000,
           1997718,
           4833600,
           30351780,
           8478720,
           9472219,
           3740160,
           12119440,
           16372093,
           1836090,
           9125000,
           3206520,
           16571120,
           3500000,
           3714810,
           3714810,
           9672727,
           9672727,
           9672727,
           3804360,
           1836090,
           3465000,
           1563518,
           2617800,
           9240000,
           1930681,
           2036318,
           5022000,
           3000000,
           9200000,
           3433320,
           1836090,
           7040880,
           1902133,
           8750000,
           12804878,
           7426088,
           12600000,
           28400000,
           6000000,
           8300000,
           1836090,
           9080417,
           9398148,
           3261480,
           3901399,
           3217631,
           30913750,
           6000000,
           10843350,
           11080125,
           16758621,
           16758621,
           16758621,
           4144320,
           7295000,
           2239200,
           330000,
           2316240,
           23760000,
           1563518,
           5954454,
           5954454,
           5954454,
           1902133,
           1782621,
           1930681,
           12196094,
           12196094,
           12196094,
           1836090,
           16902000,
           2000000,
           1930681,
           14520730,
           11500000,
           21486316,
           5853659,
           31377750,
           18500000,
           18500000,
           18500000,
           16500000,
           9500000,
           2109480,
           35448672,
           1563518,
           22321429,
           17207142,
           1836090,
           4725000,
           4725000,
           4725000,
           4670160,
           4670160,
           4670160,
           702311,
           702311,
           1782621,
           3433320,
           1815677,
           6922320,
           7065217,
           30351780,
           1563518,
           5155500,
           8694369,
           8694369,
           8694369,
           2138160,
           40600080,
           1563518,
           4379527,
           1782621,
           1575000,
           5348280,
           1836090,
           33833400,
           17505000,
           10490000,
           18000000,
           4374000,
           21250000,
           4437000,
           1815677,
           1930681,
           5258280,
           1878720,
           9165471,
           9165471,
           6479000,
           5808435,
           1836090,
           1563518,
           47063478,
           7413955,
           16892857,
           16892857,
           16892857,
           1563518,
           33616770,
           4306281,
           2000000,
           7775400,
           10937502,
           4591680,
           250000,
           4037278,
           4097561,
           4097561,
           4097561,
           14317459,
           7804878,
           8000000,
           8000000,
           8000000,
           37096500,
           1752638
          ],
          "coloraxis": "coloraxis",
          "symbol": "circle"
         },
         "mode": "markers",
         "name": "",
         "scene": "scene",
         "showlegend": false,
         "type": "scatter3d",
         "x": [
          0.44589552238805963,
          0.6473880597014925,
          0.666044776119403,
          0.3768656716417911,
          0.32089552238805963,
          0.32649253731343286,
          0.24813432835820892,
          0.4626865671641791,
          0.8899253731343284,
          0.45895522388059695,
          0.45895522388059695,
          0.6585820895522387,
          0.6473880597014925,
          0.35634328358208955,
          0.45335820895522383,
          0.41604477611940294,
          0.3805970149253731,
          0.4720149253731343,
          0.4328358208955223,
          0.8097014925373134,
          0.5671641791044776,
          0.4906716417910447,
          0.6623134328358209,
          0.4272388059701492,
          0.41604477611940294,
          0.5223880597014925,
          0.4869402985074627,
          0.39365671641791034,
          0.501865671641791,
          0.544776119402985,
          0.3880597014925372,
          0.44402985074626866,
          0.8171641791044775,
          0.5914179104477612,
          0.4906716417910447,
          0.4906716417910447,
          0.41417910447761186,
          0.46828358208955223,
          0.35634328358208955,
          0.3843283582089553,
          0.36567164179104483,
          0.5317164179104477,
          0.5970149253731343,
          0.4123134328358208,
          0.664179104477612,
          0.21455223880597019,
          0.49626865671641796,
          0.3451492537313433,
          0.4925373134328358,
          0.27611940298507454,
          0.6231343283582089,
          0.39365671641791034,
          0.4626865671641791,
          0.4328358208955223,
          0.5708955223880596,
          0.42164179104477606,
          0.5093283582089552,
          0.3376865671641791,
          0.40858208955223874,
          0.5634328358208954,
          0.5970149253731343,
          0.375,
          0.35634328358208955,
          0.3805970149253731,
          0.5223880597014925,
          0.43843283582089543,
          0.3003731343283581,
          0.7705223880597014,
          0.34888059701492535,
          0.34888059701492535,
          0.24813432835820892,
          0.24813432835820892,
          0.5708955223880596,
          0.5708955223880596,
          0.6063432835820896,
          0.3694029850746269,
          0.4906716417910447,
          0.4906716417910447,
          0.4626865671641791,
          0.8283582089552239,
          0.40858208955223874,
          0.4720149253731343,
          0.6082089552238806,
          0.5410447761194029,
          0.43843283582089543,
          0.48134328358208955,
          0.4104477611940298,
          0.3376865671641791,
          0.5597014925373134,
          0.47388059701492535,
          0.4776119402985074,
          0.46641791044776115,
          0.37126865671641796,
          0.4029850746268656,
          0.5354477611940298,
          0.5317164179104477,
          0.5466417910447761,
          0.4421641791044776,
          0.6194029850746269,
          0.41604477611940294,
          0.6828358208955223,
          0.6828358208955223,
          0.5671641791044776,
          0.5522388059701492,
          0.5093283582089552,
          0.4029850746268656,
          0.32835820895522383,
          0.5559701492537313,
          0.28171641791044766,
          0.24440298507462688,
          0.3022388059701492,
          0.3805970149253731,
          0.5970149253731343,
          0.6902985074626864,
          0.6305970149253732,
          0.7649253731343282,
          0.4328358208955223,
          0.5932835820895522,
          0.4496268656716418,
          0.3955223880597014,
          0.5578358208955223,
          0.7388059701492535,
          0.6119402985074627,
          0.8320895522388059,
          0.5895522388059701,
          0.8488805970149254,
          0.5597014925373134,
          0.9458955223880596,
          0.505597014925373,
          0.3600746268656716,
          0.4272388059701492,
          0.4328358208955223,
          0.417910447761194,
          0.4048507462686567,
          0.5093283582089552,
          0.5111940298507461,
          0.542910447761194,
          0.3451492537313433,
          0.5690298507462687,
          0.919776119402985,
          0.43656716417910446,
          0.43656716417910446,
          0.48880597014925375,
          0.4328358208955223,
          0.39925373134328346,
          0.4123134328358208,
          0.5932835820895522,
          0.40858208955223874,
          0.4720149253731343,
          0.6884328358208953,
          0.9570895522388059,
          0.5970149253731343,
          0.5130597014925372,
          0.30410447761194026,
          0.42164179104477606,
          0.3619402985074627,
          0.6063432835820896,
          0.42164179104477606,
          0.5335820895522387,
          0.5335820895522387,
          0.6380597014925373,
          0.6044776119402985,
          0.5746268656716418,
          0.419776119402985,
          0.3805970149253731,
          0.542910447761194,
          0.5093283582089552,
          0.4794776119402985,
          0.5634328358208954,
          0.34141791044776115,
          0.3619402985074627,
          0.39179104477611937,
          0.39925373134328346,
          0.3768656716417911,
          0.48320895522388063,
          0.8302238805970148,
          0.8302238805970148,
          0.8302238805970148,
          0.43656716417910446,
          0.4701492537313433,
          0.5261194029850745,
          0.5671641791044776,
          0.5690298507462687,
          0.5652985074626865,
          0.794776119402985,
          0.4701492537313433,
          0.7761194029850746,
          0.34141791044776115,
          0.48320895522388063,
          0.46082089552238803,
          0.3843283582089553,
          0.3395522388059702,
          0.46082089552238803,
          0.27611940298507454,
          0.4272388059701492,
          0.46082089552238803,
          0.4981343283582089,
          0.39365671641791034,
          0.5615671641791045,
          0.3619402985074627,
          0.40111940298507454,
          0.27611940298507454,
          0.8582089552238805,
          0.4981343283582089,
          0.4029850746268656,
          0.3805970149253731,
          0.2574626865671642,
          0.46082089552238803,
          0.47388059701492535,
          0.45149253731343275,
          0.37873134328358216,
          0.5597014925373134,
          0.5410447761194029,
          0.5951492537313433,
          0.33582089552238803,
          0.3805970149253731,
          0.4869402985074627,
          0.501865671641791,
          0.6772388059701491,
          0.40111940298507454,
          0.24813432835820892,
          0.35820895522388063,
          0.6044776119402985,
          0.332089552238806,
          0.2798507462686567,
          0.4850746268656716,
          0.6287313432835822,
          0.501865671641791,
          0.49626865671641796,
          0.2854477611940298,
          0.24813432835820892,
          0.292910447761194,
          0.49626865671641796,
          0.8544776119402986,
          0.6305970149253732,
          0.5149253731343283,
          0.8264925373134329,
          0.5410447761194029,
          0.46828358208955223,
          0.457089552238806,
          0.6436567164179106,
          0.4645522388059701,
          0.47574626865671643,
          0.3694029850746269,
          0.5802238805970149,
          0.3078358208955223,
          0.32649253731343286,
          0.29104477611940294,
          0.5876865671641791,
          0.34888059701492535,
          0.5242537313432835,
          0,
          0.6921641791044775,
          0.38619402985074613,
          0.583955223880597,
          0.4701492537313433,
          0.5503731343283581,
          0.43843283582089543,
          0.4272388059701492,
          0.6921641791044775,
          0.5149253731343283,
          0.4496268656716418,
          0.3544776119402985,
          0.6231343283582089,
          0.4552238805970149,
          0.46082089552238803,
          0.43843283582089543,
          0.3805970149253731,
          0.3768656716417911,
          0.4850746268656716,
          0.4776119402985074,
          0.6921641791044775,
          0.49626865671641796,
          0.6585820895522387,
          0.30597014925373134,
          0.3731343283582089,
          0.42910447761194026,
          0.4477611940298507,
          0.49626865671641796,
          0.4776119402985074,
          0.5391791044776119,
          0.5298507462686567,
          0.3600746268656716,
          0.457089552238806,
          0.3824626865671642,
          0.5727611940298507,
          0.5261194029850745,
          0.621268656716418,
          0.37126865671641796,
          0.36380597014925375,
          0.5317164179104477,
          0.17910447761194026,
          0.5597014925373134,
          0.3731343283582089,
          0.4850746268656716,
          0.4402985074626865,
          0.5466417910447761,
          0.5242537313432835,
          0.4850746268656716,
          0.5298507462686567,
          0.48880597014925375,
          0.8003731343283582,
          0.4402985074626865,
          0.4477611940298507,
          0.3805970149253731,
          0.24813432835820892,
          0.4701492537313433,
          0.45335820895522383,
          0.3880597014925372,
          0.4272388059701492,
          0.40671641791044766,
          0.4626865671641791,
          0.5746268656716418,
          0.5093283582089552,
          0.4421641791044776,
          0.5466417910447761,
          0.43656716417910446,
          0.5111940298507461,
          0.5298507462686567,
          0.3619402985074627,
          0.48880597014925375,
          0.4776119402985074,
          0.3526119402985075,
          0.3526119402985075,
          0.6007462686567164,
          0.5876865671641791,
          0.6548507462686568,
          0.36567164179104483,
          0.4906716417910447,
          0.4421641791044776,
          0.37873134328358216,
          0.5895522388059701,
          0.621268656716418,
          0.5130597014925372,
          0.37126865671641796,
          0.5279850746268656,
          0.37873134328358216,
          0.4794776119402985,
          0.32835820895522383,
          0.3805970149253731,
          0.5223880597014925,
          0.43843283582089543,
          0.5205223880597014,
          0.4626865671641791,
          0.4328358208955223,
          0.4477611940298507,
          0.5466417910447761,
          0.3899253731343283,
          0.7761194029850746,
          0.29664179104477606,
          0.8227611940298507,
          0.7798507462686566,
          0.3880597014925372,
          0.4626865671641791,
          0.40111940298507454,
          0.29664179104477606,
          0.4925373134328358,
          0.5205223880597014,
          0.8787313432835822,
          0.4869402985074627,
          0.4776119402985074,
          0.5746268656716418,
          0.3246268656716418,
          0.47388059701492535,
          0.4272388059701492,
          0.47574626865671643,
          0.35820895522388063,
          0.39365671641791034,
          0.48320895522388063,
          0.3805970149253731,
          0.3768656716417911,
          0.40111940298507454,
          0.5652985074626865,
          0.6772388059701491,
          0.5391791044776119,
          0.44402985074626866,
          0.45335820895522383,
          0.4272388059701492,
          0.4048507462686567,
          0.37126865671641796,
          0.39925373134328346,
          0.585820895522388,
          0.457089552238806,
          0.3675373134328358,
          0.4552238805970149,
          0.30410447761194026,
          0.39365671641791034,
          0.6958955223880596,
          0.708955223880597,
          0.6604477611940298,
          0.46641791044776115,
          0.3619402985074627,
          0.7033582089552237,
          0.5485074626865671,
          0.125,
          0.45335820895522383,
          0.40671641791044766,
          0.40671641791044766,
          0.42910447761194026,
          0.36380597014925375,
          0.4794776119402985,
          0.5652985074626865,
          0.4850746268656716,
          0.6175373134328358,
          0.292910447761194,
          0.32649253731343286,
          0.5391791044776119,
          0.5783582089552238,
          0.4496268656716418,
          0.3003731343283581,
          0.5559701492537313,
          0.4720149253731343,
          0.7723880597014925,
          0.32835820895522383,
          0.5951492537313433,
          0.501865671641791,
          0.7425373134328357,
          0.4347014925373134,
          0.4272388059701492,
          0.4402985074626865,
          0.5597014925373134,
          0.47388059701492535,
          0.12873134328358216,
          0.6175373134328358,
          0.5391791044776119,
          0.6138059701492538,
          0.39925373134328346,
          0.5298507462686567,
          0.5764925373134328,
          0.7220149253731343,
          0.37873134328358216,
          0.42350746268656714,
          0.4048507462686567,
          0.4776119402985074,
          0.5,
          0.5541044776119403,
          0.37873134328358216,
          0.37873134328358216,
          0.38619402985074613,
          0.503731343283582,
          0.3843283582089553,
          0.6194029850746269,
          0.4552238805970149,
          0.4347014925373134,
          0.4123134328358208,
          0.42164179104477606,
          0.3899253731343283,
          0.4906716417910447,
          0.49626865671641796,
          0.5130597014925372,
          0.4869402985074627,
          0.6138059701492538,
          0.9999999999999998,
          0.46641791044776115,
          0.9944029850746268,
          0.332089552238806,
          0.4253731343283581,
          0.46082089552238803,
          0.3824626865671642,
          0.5615671641791045,
          0.47388059701492535,
          0.5932835820895522,
          0.7052238805970148,
          0.4944029850746269,
          0.4850746268656716,
          0.6082089552238806
         ],
         "y": [
          0.27364864864864863,
          0.19932432432432431,
          0.6114864864864864,
          0.10472972972972971,
          0.3243243243243243,
          0.39864864864864863,
          0.08445945945945946,
          0.3412162162162162,
          0.5101351351351351,
          0.17229729729729726,
          0.22297297297297292,
          0.9763513513513511,
          0.08783783783783783,
          0.5168918918918919,
          0.5439189189189189,
          0.14527027027027026,
          0.14864864864864866,
          0.14527027027027026,
          0.25,
          0.5472972972972971,
          0.34797297297297297,
          0.2804054054054054,
          0.4594594594594594,
          0.6452702702702702,
          0.4054054054054054,
          0.3243243243243243,
          0.581081081081081,
          0.07432432432432431,
          0.5202702702702702,
          0.4831081081081081,
          0.6418918918918918,
          0.4628378378378378,
          0.06756756756756757,
          0.15878378378378377,
          0.2466216216216216,
          0.2466216216216216,
          0.3310810810810811,
          0.7499999999999999,
          0.37499999999999994,
          0.277027027027027,
          0.5101351351351351,
          0.11824324324324323,
          0.2027027027027027,
          0.30067567567567566,
          0.04729729729729729,
          0.013513513513513507,
          0.8716216216216215,
          0.19256756756756754,
          0.28378378378378377,
          0.1216216216216216,
          0.4459459459459459,
          0.27364864864864863,
          0.6114864864864864,
          0.5878378378378377,
          0.27027027027027023,
          0.125,
          0.7635135135135135,
          0.07770270270270269,
          0.11148648648648646,
          0.5168918918918919,
          0.2162162162162162,
          0.2567567567567567,
          0.3614864864864864,
          0.09459459459459457,
          0.689189189189189,
          0.41216216216216206,
          0.1385135135135135,
          0.3412162162162162,
          0.10810810810810811,
          0.10810810810810811,
          0.08783783783783783,
          0.08783783783783783,
          0.15540540540540537,
          0.15540540540540537,
          0.4729729729729729,
          0.2162162162162162,
          0.04391891891891891,
          0.11824324324324323,
          0.23310810810810811,
          0.31756756756756754,
          0.5067567567567567,
          0.27027027027027023,
          0.5135135135135134,
          0.22972972972972971,
          0.42905405405405395,
          0.30067567567567566,
          0.25337837837837834,
          0.22297297297297292,
          0.31756756756756754,
          0.18918918918918914,
          0.1858108108108108,
          0.19932432432432431,
          0.28378378378378377,
          0.554054054054054,
          0.4729729729729729,
          0.4729729729729729,
          0.4695945945945945,
          0.8277027027027026,
          0.7499999999999999,
          0.31756756756756754,
          0.17905405405405403,
          0.17905405405405403,
          0.9087837837837837,
          0.3378378378378378,
          0.08445945945945946,
          0.42905405405405395,
          0.39189189189189183,
          0.5,
          0.27027027027027023,
          0.20945945945945943,
          0.3141891891891892,
          0.5472972972972971,
          0.2635135135135135,
          0.23310810810810811,
          0.17229729729729726,
          0.36486486486486486,
          0.4087837837837837,
          0.9763513513513511,
          0.6858108108108107,
          0.16554054054054054,
          1,
          0.22635135135135132,
          0.125,
          0.45608108108108103,
          0.14527027027027026,
          0.06418918918918917,
          0,
          0.19932432432432431,
          0.3378378378378378,
          0.11148648648648646,
          0.2635135135135135,
          0.27364864864864863,
          0.2567567567567567,
          0.4425675675675675,
          0.7499999999999999,
          0.3310810810810811,
          0.14864864864864866,
          0.04391891891891891,
          0.19256756756756754,
          0.28378378378378377,
          0.3614864864864864,
          0.3614864864864864,
          0.6993243243243242,
          0.03378378378378378,
          0.2398648648648648,
          0.7871621621621621,
          0.11486486486486486,
          0.3885135135135135,
          0.7939189189189189,
          0.10472972972972971,
          0.4932432432432432,
          0.4729729729729729,
          0.41891891891891886,
          0.3682432432432432,
          0.6148648648648648,
          0.16554054054054054,
          0.21959459459459457,
          0.5506756756756757,
          0.18243243243243243,
          0.18243243243243243,
          0.20945945945945943,
          0.3141891891891892,
          0.12837837837837837,
          0.18243243243243243,
          0.16891891891891891,
          0.34797297297297297,
          0.4831081081081081,
          0.4493243243243243,
          0.5574324324324323,
          0.22297297297297292,
          0.4459459459459459,
          0.7094594594594593,
          0.7263513513513512,
          0.6756756756756755,
          0.1216216216216216,
          0.4087837837837837,
          0.4425675675675675,
          0.3513513513513513,
          0.3412162162162162,
          0.34797297297297297,
          0.5472972972972971,
          0.4695945945945945,
          0.41891891891891886,
          0.6385135135135134,
          0.2466216216216216,
          0.050675675675675665,
          0.2804054054054054,
          0.19932432432432431,
          0.5033783783783783,
          0.6655405405405405,
          0.4932432432432432,
          0.45270270270270263,
          0.581081081081081,
          0.04391891891891891,
          0.17567567567567566,
          0.17905405405405403,
          0.17229729729729726,
          0.19594594594594592,
          0.5844594594594594,
          0.3074324324324324,
          0.3378378378378378,
          0.2466216216216216,
          0.31756756756756754,
          0.31081081081081074,
          0.304054054054054,
          0.16554054054054054,
          0.12837837837837837,
          0.19594594594594592,
          0.37499999999999994,
          0.41891891891891886,
          0.3074324324324324,
          0.19594594594594592,
          0.18918918918918914,
          0.2027027027027027,
          0.10135135135135134,
          0.20945945945945943,
          0.733108108108108,
          0.8918918918918917,
          0.2466216216216216,
          0.5168918918918919,
          0.037162162162162164,
          0.5337837837837838,
          0.9898648648648647,
          0.20608108108108106,
          0.08783783783783783,
          0.3885135135135135,
          0.04729729729729729,
          0.152027027027027,
          0.5405405405405405,
          0.20945945945945943,
          0.08445945945945946,
          0.29391891891891886,
          0.19256756756756754,
          0.2398648648648648,
          0.15540540540540537,
          0.2871621621621621,
          0,
          0.16891891891891891,
          0.2601351351351351,
          0.23648648648648646,
          0.3243243243243243,
          0.3682432432432432,
          0.2432432432432432,
          0.2027027027027027,
          0.0912162162162162,
          0.07094594594594594,
          0.08783783783783783,
          0.057432432432432436,
          0.12837837837837837,
          0.22297297297297292,
          0.03378378378378378,
          0.03378378378378378,
          0.040540540540540536,
          0.17567567567567566,
          0.2804054054054054,
          0.5439189189189189,
          0.13175675675675674,
          0.11824324324324323,
          0.125,
          0.06081081081081079,
          0.7905405405405403,
          0.2162162162162162,
          0.15540540540540537,
          0.16891891891891891,
          0.5405405405405405,
          0.5979729729729729,
          0.4256756756756756,
          0.16554054054054054,
          0.777027027027027,
          0.29729729729729726,
          0.18243243243243243,
          0.16891891891891891,
          0.3851351351351351,
          0.20608108108108106,
          0.09797297297297297,
          0.13513513513513511,
          0.4256756756756756,
          0.41891891891891886,
          0.3209459459459459,
          0.31756756756756754,
          0.3243243243243243,
          0.3310810810810811,
          0.31756756756756754,
          0.4662162162162162,
          0.15878378378378377,
          0.277027027027027,
          0.22635135135135132,
          0.2635135135135135,
          0.304054054054054,
          0.1385135135135135,
          0.5574324324324323,
          0.040540540540540536,
          0.10135135135135134,
          0.16891891891891891,
          0.7128378378378378,
          0.6587837837837837,
          0.7871621621621621,
          0.25337837837837834,
          0.277027027027027,
          0.17567567567567566,
          0.34797297297297297,
          0.277027027027027,
          0.14864864864864866,
          0.09459459459459457,
          0.3310810810810811,
          0.10810810810810811,
          0.2668918918918919,
          0.6452702702702702,
          0.3513513513513513,
          0.2432432432432432,
          0.35472972972972966,
          0.841216216216216,
          0.4729729729729729,
          0.4324324324324324,
          0.11486486486486486,
          0.8918918918918917,
          0.4864864864864864,
          0.22297297297297292,
          0.39189189189189183,
          0.14864864864864866,
          0.6790540540540541,
          0.23648648648648646,
          0.1216216216216216,
          0.1216216216216216,
          0.2027027027027027,
          0.19932432432432431,
          0.2128378378378378,
          0.09459459459459457,
          0.21959459459459457,
          0.277027027027027,
          0.07432432432432431,
          0.18918918918918914,
          0.08108108108108106,
          0.25337837837837834,
          0.10472972972972971,
          0.1385135135135135,
          0.23310810810810811,
          0.2162162162162162,
          0.2567567567567567,
          0.057432432432432436,
          0.2635135135135135,
          0.0912162162162162,
          0.3851351351351351,
          0.27364864864864863,
          0.32770270270270263,
          0.4729729729729729,
          0.4628378378378378,
          0.3310810810810811,
          0.20608108108108106,
          0.050675675675675665,
          0.1858108108108108,
          0.42229729729729726,
          0.22297297297297292,
          0.5912162162162161,
          0.4932432432432432,
          0.30067567567567566,
          0.2432432432432432,
          0.4594594594594594,
          0.2601351351351351,
          0.608108108108108,
          0.5979729729729729,
          0.689189189189189,
          0.16216216216216214,
          0.2128378378378378,
          0.17567567567567566,
          0.11148648648648646,
          0.34797297297297297,
          0.6452702702702702,
          0.2128378378378378,
          0.3074324324324324,
          0.3682432432432432,
          0.17229729729729726,
          0.11486486486486486,
          0.07094594594594594,
          0.2466216216216216,
          0.31081081081081074,
          0.29391891891891886,
          0.3513513513513513,
          0.16891891891891891,
          0.33445945945945943,
          0.21959459459459457,
          0.3074324324324324,
          0.3716216216216216,
          0.304054054054054,
          0.6182432432432432,
          0.4087837837837837,
          0.5777027027027026,
          0.6047297297297296,
          0.6047297297297296,
          0.6047297297297296,
          0.5067567567567567,
          0.2466216216216216,
          0.17567567567567566,
          0.7364864864864864,
          0.030405405405405393,
          0.5506756756756757,
          0.37499999999999994,
          0.15540540540540537,
          0.17905405405405403,
          0.11824324324324323,
          0.2567567567567567,
          0.277027027027027,
          0.16891891891891891,
          0.41891891891891886,
          0.04391891891891891,
          0.152027027027027,
          0.17229729729729726,
          0.2466216216216216,
          0.3243243243243243,
          0.36486486486486486,
          0.36486486486486486,
          0.8749999999999998,
          0.2905405405405405,
          0.14189189189189189,
          0.2432432432432432,
          0.25,
          0.23310810810810811,
          0.25337837837837834,
          0.6554054054054053,
          0.03378378378378378,
          0.15878378378378377,
          0.12837837837837837,
          0.023648648648648643,
          0.27027027027027023,
          0.10472972972972971,
          0.7972972972972973,
          0.5844594594594594,
          0.22297297297297292,
          0.402027027027027,
          0.19932432432432431,
          0.652027027027027,
          0.38175675675675674,
          0.2601351351351351,
          0.14527027027027026,
          0.4797297297297296,
          0.27027027027027023,
          0.35810810810810806,
          0.35810810810810806,
          0.37499999999999994,
          0.3141891891891892,
          0.11148648648648646,
          0.22297297297297292,
          0.5912162162162161,
          0.3952702702702702,
          0.41216216216216206,
          0.45270270270270263,
          0.3378378378378378,
          0.2466216216216216,
          0.5472972972972971,
          0.22972972972972971,
          0.2162162162162162,
          0.27027027027027023,
          0.304054054054054,
          0.2398648648648648,
          0.21959459459459457,
          0.040540540540540536,
          0.15878378378378377,
          0.10810810810810811,
          0.32770270270270263,
          0.5709459459459458,
          0.11486486486486486,
          0.17567567567567566,
          0.17229729729729726,
          0.17905405405405403,
          0.9256756756756755,
          0.14527027027027026
         ],
         "z": [
          0.10185185185185186,
          0.31481481481481477,
          0.31481481481481477,
          0.06481481481481481,
          0.2222222222222222,
          0.25925925925925924,
          0.10185185185185186,
          0.1388888888888889,
          0.14814814814814814,
          0.25925925925925924,
          0.25,
          0.537037037037037,
          0.046296296296296294,
          0.5277777777777778,
          0.24074074074074073,
          0.1759259259259259,
          0.20370370370370372,
          0.14814814814814814,
          0.18518518518518517,
          0.12962962962962962,
          0.07407407407407407,
          0.05555555555555555,
          0.10185185185185186,
          0.7037037037037036,
          0.47222222222222215,
          0.1111111111111111,
          0.25,
          0.1388888888888889,
          0.2222222222222222,
          0.32407407407407407,
          0.2777777777777778,
          0.3611111111111111,
          0.027777777777777776,
          0.06481481481481481,
          0.15740740740740738,
          0.15740740740740738,
          0.12962962962962962,
          0.611111111111111,
          0.1388888888888889,
          0.4259259259259259,
          0.25925925925925924,
          0.09259259259259259,
          0.10185185185185186,
          0.3888888888888889,
          0.037037037037037035,
          0.05555555555555555,
          0.4444444444444444,
          0.09259259259259259,
          0.027777777777777776,
          0.07407407407407407,
          0.21296296296296294,
          0.10185185185185186,
          0.5462962962962963,
          0.25925925925925924,
          0.19444444444444445,
          0.06481481481481481,
          0.32407407407407407,
          0.06481481481481481,
          0.09259259259259259,
          0.4444444444444444,
          0.08333333333333333,
          0.1111111111111111,
          0.2777777777777778,
          0.1388888888888889,
          0.5092592592592592,
          0.1759259259259259,
          0.31481481481481477,
          0.1111111111111111,
          0.1388888888888889,
          0.1388888888888889,
          0.09259259259259259,
          0.09259259259259259,
          0.23148148148148145,
          0.23148148148148145,
          0.25925925925925924,
          0.37037037037037035,
          0.027777777777777776,
          0.046296296296296294,
          0.18518518518518517,
          0.12037037037037036,
          0.23148148148148145,
          0.16666666666666666,
          0.16666666666666666,
          0.20370370370370372,
          0.4907407407407407,
          0.12037037037037036,
          0.12037037037037036,
          0.12962962962962962,
          0.09259259259259259,
          0.1111111111111111,
          0.10185185185185186,
          0.1111111111111111,
          0.1759259259259259,
          0.5185185185185185,
          0.3333333333333333,
          0.37037037037037035,
          0.24074074074074073,
          0.5833333333333333,
          0.28703703703703703,
          0.12037037037037036,
          0.06481481481481481,
          0.06481481481481481,
          0.4537037037037037,
          0.12037037037037036,
          0.07407407407407407,
          0.48148148148148145,
          0.537037037037037,
          0.3611111111111111,
          0.25925925925925924,
          0.15740740740740738,
          0.3333333333333333,
          0.15740740740740738,
          0.3055555555555555,
          0.16666666666666666,
          0.18518518518518517,
          0.12962962962962962,
          0.19444444444444445,
          0.5925925925925926,
          0.3518518518518518,
          0.05555555555555555,
          0.3888888888888889,
          0.1111111111111111,
          0.09259259259259259,
          0.14814814814814814,
          0.05555555555555555,
          0.018518518518518517,
          0.018518518518518517,
          0.027777777777777776,
          0.1759259259259259,
          0.14814814814814814,
          0.09259259259259259,
          0.09259259259259259,
          0.09259259259259259,
          0.19444444444444445,
          0.5185185185185185,
          0.5092592592592592,
          0.046296296296296294,
          0.027777777777777776,
          0.05555555555555555,
          0.08333333333333333,
          0.1388888888888889,
          0.1388888888888889,
          0.7962962962962962,
          0.06481481481481481,
          0.09259259259259259,
          0.5277777777777778,
          0.05555555555555555,
          0.5925925925925926,
          0.5462962962962963,
          0.05555555555555555,
          0.10185185185185186,
          0.23148148148148145,
          0.25,
          0.3888888888888889,
          0.2222222222222222,
          0.09259259259259259,
          0.6481481481481481,
          0.24074074074074073,
          0.08333333333333333,
          0.08333333333333333,
          0.08333333333333333,
          0.12037037037037036,
          0.1111111111111111,
          0.1759259259259259,
          0.09259259259259259,
          0.10185185185185186,
          0.7592592592592592,
          0.6851851851851852,
          0.8888888888888888,
          0.23148148148148145,
          0.20370370370370372,
          0.9537037037037037,
          0.9444444444444443,
          0.9722222222222222,
          0.046296296296296294,
          0.18518518518518517,
          0.19444444444444445,
          0.18518518518518517,
          0.16666666666666666,
          0.09259259259259259,
          0.32407407407407407,
          0.3796296296296296,
          0.3796296296296296,
          0.3981481481481481,
          0.2222222222222222,
          0.027777777777777776,
          0.05555555555555555,
          0.3888888888888889,
          0.3333333333333333,
          0.37037037037037035,
          0.25925925925925924,
          0.1759259259259259,
          0.4444444444444444,
          0.027777777777777776,
          0.20370370370370372,
          0.2222222222222222,
          0.1759259259259259,
          0.31481481481481477,
          0.6296296296296295,
          0.15740740740740738,
          0.16666666666666666,
          0.1388888888888889,
          0.10185185185185186,
          0.31481481481481477,
          0.25,
          0.09259259259259259,
          0.1111111111111111,
          0.09259259259259259,
          0.25,
          0.12037037037037036,
          0.25925925925925924,
          0.08333333333333333,
          0.09259259259259259,
          0.06481481481481481,
          0.3425925925925926,
          0.32407407407407407,
          0.5185185185185185,
          0.537037037037037,
          0.027777777777777776,
          0.10185185185185186,
          0.027777777777777776,
          0.4444444444444444,
          0.5740740740740741,
          0.21296296296296294,
          0.05555555555555555,
          0.1388888888888889,
          0.009259259259259259,
          0.19444444444444445,
          0.19444444444444445,
          0.19444444444444445,
          0.08333333333333333,
          0.2685185185185185,
          0.15740740740740738,
          0.1111111111111111,
          0.05555555555555555,
          0.19444444444444445,
          0.018518518518518517,
          0.31481481481481477,
          0.40740740740740744,
          0.3333333333333333,
          0.12962962962962962,
          0.19444444444444445,
          0.10185185185185186,
          0.1111111111111111,
          0.05555555555555555,
          0.027777777777777776,
          0.018518518518518517,
          0.037037037037037035,
          0.1388888888888889,
          0.1759259259259259,
          0.05555555555555555,
          0.046296296296296294,
          0.06481481481481481,
          0.1759259259259259,
          0.08333333333333333,
          0.32407407407407407,
          0.07407407407407407,
          0.037037037037037035,
          0.037037037037037035,
          0.046296296296296294,
          0.41666666666666663,
          0.09259259259259259,
          0.2685185185185185,
          0.1111111111111111,
          0.3981481481481481,
          0.40740740740740744,
          0.3611111111111111,
          0.18518518518518517,
          0.6759259259259258,
          0.12037037037037036,
          0.10185185185185186,
          0.18518518518518517,
          0.046296296296296294,
          0.1388888888888889,
          0.05555555555555555,
          0.05555555555555555,
          0.20370370370370372,
          0.6944444444444444,
          0.1111111111111111,
          0.10185185185185186,
          0.12037037037037036,
          0.24074074074074073,
          0.1388888888888889,
          0.12037037037037036,
          0.10185185185185186,
          0.10185185185185186,
          0.23148148148148145,
          0.12037037037037036,
          0.09259259259259259,
          0.06481481481481481,
          0.3981481481481481,
          0.09259259259259259,
          0.046296296296296294,
          0.09259259259259259,
          0.47222222222222215,
          0.41666666666666663,
          0.537037037037037,
          0.4537037037037037,
          0.10185185185185186,
          0.10185185185185186,
          0.12037037037037036,
          0.05555555555555555,
          0.08333333333333333,
          0.2685185185185185,
          0.25,
          0.06481481481481481,
          0.09259259259259259,
          0.5,
          0.21296296296296294,
          0.23148148148148145,
          0.3888888888888889,
          0.4907407407407407,
          0.23148148148148145,
          0.2685185185185185,
          0.037037037037037035,
          0.6203703703703703,
          0.19444444444444445,
          0.12962962962962962,
          0.40740740740740744,
          0.05555555555555555,
          0.8518518518518517,
          0.046296296296296294,
          0.07407407407407407,
          0.07407407407407407,
          0.16666666666666666,
          0.18518518518518517,
          0.08333333333333333,
          0.037037037037037035,
          0.28703703703703703,
          0.12037037037037036,
          0.15740740740740738,
          0.037037037037037035,
          0.08333333333333333,
          0.19444444444444445,
          0.1111111111111111,
          0.07407407407407407,
          0.09259259259259259,
          0.23148148148148145,
          0.15740740740740738,
          0.046296296296296294,
          0.16666666666666666,
          0.06481481481481481,
          0.32407407407407407,
          0.25925925925925924,
          0.18518518518518517,
          0.10185185185185186,
          1,
          0.4537037037037037,
          0.08333333333333333,
          0.08333333333333333,
          0.28703703703703703,
          0.25925925925925924,
          0.19444444444444445,
          0.37037037037037035,
          0.5740740740740741,
          0.1759259259259259,
          0.1388888888888889,
          0.1111111111111111,
          0.1111111111111111,
          0.19444444444444445,
          0.19444444444444445,
          0.25925925925925924,
          0.14814814814814814,
          0.09259259259259259,
          0.18518518518518517,
          0.037037037037037035,
          0.32407407407407407,
          0.47222222222222215,
          0.16666666666666666,
          0.09259259259259259,
          0.10185185185185186,
          0.06481481481481481,
          0.10185185185185186,
          0.037037037037037035,
          0.08333333333333333,
          0.16666666666666666,
          0.1388888888888889,
          0.21296296296296294,
          0.12037037037037036,
          0.14814814814814814,
          0.09259259259259259,
          0.14814814814814814,
          0.37037037037037035,
          0.16666666666666666,
          0.41666666666666663,
          0.611111111111111,
          0.6574074074074073,
          0.48148148148148145,
          0.4629629629629629,
          0.537037037037037,
          0.19444444444444445,
          0.14814814814814814,
          0.046296296296296294,
          0.4907407407407407,
          0,
          0.3611111111111111,
          0.5462962962962963,
          0.3333333333333333,
          0.3518518518518518,
          0.24074074074074073,
          0.48148148148148145,
          0.046296296296296294,
          0.018518518518518517,
          0.07407407407407407,
          0.027777777777777776,
          0.046296296296296294,
          0.06481481481481481,
          0.1111111111111111,
          0.12962962962962962,
          0.40740740740740744,
          0.25925925925925924,
          0.40740740740740744,
          0.1111111111111111,
          0.12037037037037036,
          0.08333333333333333,
          0.07407407407407407,
          0.09259259259259259,
          0.1111111111111111,
          0.25925925925925924,
          0.05555555555555555,
          0.10185185185185186,
          0.1111111111111111,
          0.027777777777777776,
          0.10185185185185186,
          0.15740740740740738,
          0.3333333333333333,
          0.18518518518518517,
          0.19444444444444445,
          0.09259259259259259,
          0.12037037037037036,
          0.6203703703703703,
          0.1759259259259259,
          0.28703703703703703,
          0.09259259259259259,
          0.2685185185185185,
          0.12962962962962962,
          0.32407407407407407,
          0.32407407407407407,
          0.20370370370370372,
          0.21296296296296294,
          0.05555555555555555,
          0.15740740740740738,
          0.6574074074074073,
          0.2685185185185185,
          0.4537037037037037,
          0.5185185185185185,
          0.32407407407407407,
          0.12962962962962962,
          0.20370370370370372,
          0.09259259259259259,
          0.20370370370370372,
          0.08333333333333333,
          0.18518518518518517,
          0.09259259259259259,
          0.12037037037037036,
          0.06481481481481481,
          0.16666666666666666,
          0.12962962962962962,
          0.2685185185185185,
          0.21296296296296294,
          0.2222222222222222,
          0.18518518518518517,
          0.21296296296296294,
          0.15740740740740738,
          0.898148148148148,
          0.08333333333333333
         ]
        }
       ],
       "layout": {
        "coloraxis": {
         "colorbar": {
          "title": {
           "text": "color"
          }
         },
         "colorscale": [
          [
           0,
           "#0d0887"
          ],
          [
           0.1111111111111111,
           "#46039f"
          ],
          [
           0.2222222222222222,
           "#7201a8"
          ],
          [
           0.3333333333333333,
           "#9c179e"
          ],
          [
           0.4444444444444444,
           "#bd3786"
          ],
          [
           0.5555555555555556,
           "#d8576b"
          ],
          [
           0.6666666666666666,
           "#ed7953"
          ],
          [
           0.7777777777777778,
           "#fb9f3a"
          ],
          [
           0.8888888888888888,
           "#fdca26"
          ],
          [
           1,
           "#f0f921"
          ]
         ]
        },
        "legend": {
         "tracegroupgap": 0
        },
        "margin": {
         "t": 60
        },
        "scene": {
         "domain": {
          "x": [
           0,
           1
          ],
          "y": [
           0,
           1
          ]
         },
         "xaxis": {
          "title": {
           "text": "FG%"
          }
         },
         "yaxis": {
          "title": {
           "text": "PTS"
          }
         },
         "zaxis": {
          "title": {
           "text": "AST"
          }
         }
        },
        "template": {
         "data": {
          "bar": [
           {
            "error_x": {
             "color": "#2a3f5f"
            },
            "error_y": {
             "color": "#2a3f5f"
            },
            "marker": {
             "line": {
              "color": "#E5ECF6",
              "width": 0.5
             },
             "pattern": {
              "fillmode": "overlay",
              "size": 10,
              "solidity": 0.2
             }
            },
            "type": "bar"
           }
          ],
          "barpolar": [
           {
            "marker": {
             "line": {
              "color": "#E5ECF6",
              "width": 0.5
             },
             "pattern": {
              "fillmode": "overlay",
              "size": 10,
              "solidity": 0.2
             }
            },
            "type": "barpolar"
           }
          ],
          "carpet": [
           {
            "aaxis": {
             "endlinecolor": "#2a3f5f",
             "gridcolor": "white",
             "linecolor": "white",
             "minorgridcolor": "white",
             "startlinecolor": "#2a3f5f"
            },
            "baxis": {
             "endlinecolor": "#2a3f5f",
             "gridcolor": "white",
             "linecolor": "white",
             "minorgridcolor": "white",
             "startlinecolor": "#2a3f5f"
            },
            "type": "carpet"
           }
          ],
          "choropleth": [
           {
            "colorbar": {
             "outlinewidth": 0,
             "ticks": ""
            },
            "type": "choropleth"
           }
          ],
          "contour": [
           {
            "colorbar": {
             "outlinewidth": 0,
             "ticks": ""
            },
            "colorscale": [
             [
              0,
              "#0d0887"
             ],
             [
              0.1111111111111111,
              "#46039f"
             ],
             [
              0.2222222222222222,
              "#7201a8"
             ],
             [
              0.3333333333333333,
              "#9c179e"
             ],
             [
              0.4444444444444444,
              "#bd3786"
             ],
             [
              0.5555555555555556,
              "#d8576b"
             ],
             [
              0.6666666666666666,
              "#ed7953"
             ],
             [
              0.7777777777777778,
              "#fb9f3a"
             ],
             [
              0.8888888888888888,
              "#fdca26"
             ],
             [
              1,
              "#f0f921"
             ]
            ],
            "type": "contour"
           }
          ],
          "contourcarpet": [
           {
            "colorbar": {
             "outlinewidth": 0,
             "ticks": ""
            },
            "type": "contourcarpet"
           }
          ],
          "heatmap": [
           {
            "colorbar": {
             "outlinewidth": 0,
             "ticks": ""
            },
            "colorscale": [
             [
              0,
              "#0d0887"
             ],
             [
              0.1111111111111111,
              "#46039f"
             ],
             [
              0.2222222222222222,
              "#7201a8"
             ],
             [
              0.3333333333333333,
              "#9c179e"
             ],
             [
              0.4444444444444444,
              "#bd3786"
             ],
             [
              0.5555555555555556,
              "#d8576b"
             ],
             [
              0.6666666666666666,
              "#ed7953"
             ],
             [
              0.7777777777777778,
              "#fb9f3a"
             ],
             [
              0.8888888888888888,
              "#fdca26"
             ],
             [
              1,
              "#f0f921"
             ]
            ],
            "type": "heatmap"
           }
          ],
          "heatmapgl": [
           {
            "colorbar": {
             "outlinewidth": 0,
             "ticks": ""
            },
            "colorscale": [
             [
              0,
              "#0d0887"
             ],
             [
              0.1111111111111111,
              "#46039f"
             ],
             [
              0.2222222222222222,
              "#7201a8"
             ],
             [
              0.3333333333333333,
              "#9c179e"
             ],
             [
              0.4444444444444444,
              "#bd3786"
             ],
             [
              0.5555555555555556,
              "#d8576b"
             ],
             [
              0.6666666666666666,
              "#ed7953"
             ],
             [
              0.7777777777777778,
              "#fb9f3a"
             ],
             [
              0.8888888888888888,
              "#fdca26"
             ],
             [
              1,
              "#f0f921"
             ]
            ],
            "type": "heatmapgl"
           }
          ],
          "histogram": [
           {
            "marker": {
             "pattern": {
              "fillmode": "overlay",
              "size": 10,
              "solidity": 0.2
             }
            },
            "type": "histogram"
           }
          ],
          "histogram2d": [
           {
            "colorbar": {
             "outlinewidth": 0,
             "ticks": ""
            },
            "colorscale": [
             [
              0,
              "#0d0887"
             ],
             [
              0.1111111111111111,
              "#46039f"
             ],
             [
              0.2222222222222222,
              "#7201a8"
             ],
             [
              0.3333333333333333,
              "#9c179e"
             ],
             [
              0.4444444444444444,
              "#bd3786"
             ],
             [
              0.5555555555555556,
              "#d8576b"
             ],
             [
              0.6666666666666666,
              "#ed7953"
             ],
             [
              0.7777777777777778,
              "#fb9f3a"
             ],
             [
              0.8888888888888888,
              "#fdca26"
             ],
             [
              1,
              "#f0f921"
             ]
            ],
            "type": "histogram2d"
           }
          ],
          "histogram2dcontour": [
           {
            "colorbar": {
             "outlinewidth": 0,
             "ticks": ""
            },
            "colorscale": [
             [
              0,
              "#0d0887"
             ],
             [
              0.1111111111111111,
              "#46039f"
             ],
             [
              0.2222222222222222,
              "#7201a8"
             ],
             [
              0.3333333333333333,
              "#9c179e"
             ],
             [
              0.4444444444444444,
              "#bd3786"
             ],
             [
              0.5555555555555556,
              "#d8576b"
             ],
             [
              0.6666666666666666,
              "#ed7953"
             ],
             [
              0.7777777777777778,
              "#fb9f3a"
             ],
             [
              0.8888888888888888,
              "#fdca26"
             ],
             [
              1,
              "#f0f921"
             ]
            ],
            "type": "histogram2dcontour"
           }
          ],
          "mesh3d": [
           {
            "colorbar": {
             "outlinewidth": 0,
             "ticks": ""
            },
            "type": "mesh3d"
           }
          ],
          "parcoords": [
           {
            "line": {
             "colorbar": {
              "outlinewidth": 0,
              "ticks": ""
             }
            },
            "type": "parcoords"
           }
          ],
          "pie": [
           {
            "automargin": true,
            "type": "pie"
           }
          ],
          "scatter": [
           {
            "fillpattern": {
             "fillmode": "overlay",
             "size": 10,
             "solidity": 0.2
            },
            "type": "scatter"
           }
          ],
          "scatter3d": [
           {
            "line": {
             "colorbar": {
              "outlinewidth": 0,
              "ticks": ""
             }
            },
            "marker": {
             "colorbar": {
              "outlinewidth": 0,
              "ticks": ""
             }
            },
            "type": "scatter3d"
           }
          ],
          "scattercarpet": [
           {
            "marker": {
             "colorbar": {
              "outlinewidth": 0,
              "ticks": ""
             }
            },
            "type": "scattercarpet"
           }
          ],
          "scattergeo": [
           {
            "marker": {
             "colorbar": {
              "outlinewidth": 0,
              "ticks": ""
             }
            },
            "type": "scattergeo"
           }
          ],
          "scattergl": [
           {
            "marker": {
             "colorbar": {
              "outlinewidth": 0,
              "ticks": ""
             }
            },
            "type": "scattergl"
           }
          ],
          "scattermapbox": [
           {
            "marker": {
             "colorbar": {
              "outlinewidth": 0,
              "ticks": ""
             }
            },
            "type": "scattermapbox"
           }
          ],
          "scatterpolar": [
           {
            "marker": {
             "colorbar": {
              "outlinewidth": 0,
              "ticks": ""
             }
            },
            "type": "scatterpolar"
           }
          ],
          "scatterpolargl": [
           {
            "marker": {
             "colorbar": {
              "outlinewidth": 0,
              "ticks": ""
             }
            },
            "type": "scatterpolargl"
           }
          ],
          "scatterternary": [
           {
            "marker": {
             "colorbar": {
              "outlinewidth": 0,
              "ticks": ""
             }
            },
            "type": "scatterternary"
           }
          ],
          "surface": [
           {
            "colorbar": {
             "outlinewidth": 0,
             "ticks": ""
            },
            "colorscale": [
             [
              0,
              "#0d0887"
             ],
             [
              0.1111111111111111,
              "#46039f"
             ],
             [
              0.2222222222222222,
              "#7201a8"
             ],
             [
              0.3333333333333333,
              "#9c179e"
             ],
             [
              0.4444444444444444,
              "#bd3786"
             ],
             [
              0.5555555555555556,
              "#d8576b"
             ],
             [
              0.6666666666666666,
              "#ed7953"
             ],
             [
              0.7777777777777778,
              "#fb9f3a"
             ],
             [
              0.8888888888888888,
              "#fdca26"
             ],
             [
              1,
              "#f0f921"
             ]
            ],
            "type": "surface"
           }
          ],
          "table": [
           {
            "cells": {
             "fill": {
              "color": "#EBF0F8"
             },
             "line": {
              "color": "white"
             }
            },
            "header": {
             "fill": {
              "color": "#C8D4E3"
             },
             "line": {
              "color": "white"
             }
            },
            "type": "table"
           }
          ]
         },
         "layout": {
          "annotationdefaults": {
           "arrowcolor": "#2a3f5f",
           "arrowhead": 0,
           "arrowwidth": 1
          },
          "autotypenumbers": "strict",
          "coloraxis": {
           "colorbar": {
            "outlinewidth": 0,
            "ticks": ""
           }
          },
          "colorscale": {
           "diverging": [
            [
             0,
             "#8e0152"
            ],
            [
             0.1,
             "#c51b7d"
            ],
            [
             0.2,
             "#de77ae"
            ],
            [
             0.3,
             "#f1b6da"
            ],
            [
             0.4,
             "#fde0ef"
            ],
            [
             0.5,
             "#f7f7f7"
            ],
            [
             0.6,
             "#e6f5d0"
            ],
            [
             0.7,
             "#b8e186"
            ],
            [
             0.8,
             "#7fbc41"
            ],
            [
             0.9,
             "#4d9221"
            ],
            [
             1,
             "#276419"
            ]
           ],
           "sequential": [
            [
             0,
             "#0d0887"
            ],
            [
             0.1111111111111111,
             "#46039f"
            ],
            [
             0.2222222222222222,
             "#7201a8"
            ],
            [
             0.3333333333333333,
             "#9c179e"
            ],
            [
             0.4444444444444444,
             "#bd3786"
            ],
            [
             0.5555555555555556,
             "#d8576b"
            ],
            [
             0.6666666666666666,
             "#ed7953"
            ],
            [
             0.7777777777777778,
             "#fb9f3a"
            ],
            [
             0.8888888888888888,
             "#fdca26"
            ],
            [
             1,
             "#f0f921"
            ]
           ],
           "sequentialminus": [
            [
             0,
             "#0d0887"
            ],
            [
             0.1111111111111111,
             "#46039f"
            ],
            [
             0.2222222222222222,
             "#7201a8"
            ],
            [
             0.3333333333333333,
             "#9c179e"
            ],
            [
             0.4444444444444444,
             "#bd3786"
            ],
            [
             0.5555555555555556,
             "#d8576b"
            ],
            [
             0.6666666666666666,
             "#ed7953"
            ],
            [
             0.7777777777777778,
             "#fb9f3a"
            ],
            [
             0.8888888888888888,
             "#fdca26"
            ],
            [
             1,
             "#f0f921"
            ]
           ]
          },
          "colorway": [
           "#636efa",
           "#EF553B",
           "#00cc96",
           "#ab63fa",
           "#FFA15A",
           "#19d3f3",
           "#FF6692",
           "#B6E880",
           "#FF97FF",
           "#FECB52"
          ],
          "font": {
           "color": "#2a3f5f"
          },
          "geo": {
           "bgcolor": "white",
           "lakecolor": "white",
           "landcolor": "#E5ECF6",
           "showlakes": true,
           "showland": true,
           "subunitcolor": "white"
          },
          "hoverlabel": {
           "align": "left"
          },
          "hovermode": "closest",
          "mapbox": {
           "style": "light"
          },
          "paper_bgcolor": "white",
          "plot_bgcolor": "#E5ECF6",
          "polar": {
           "angularaxis": {
            "gridcolor": "white",
            "linecolor": "white",
            "ticks": ""
           },
           "bgcolor": "#E5ECF6",
           "radialaxis": {
            "gridcolor": "white",
            "linecolor": "white",
            "ticks": ""
           }
          },
          "scene": {
           "xaxis": {
            "backgroundcolor": "#E5ECF6",
            "gridcolor": "white",
            "gridwidth": 2,
            "linecolor": "white",
            "showbackground": true,
            "ticks": "",
            "zerolinecolor": "white"
           },
           "yaxis": {
            "backgroundcolor": "#E5ECF6",
            "gridcolor": "white",
            "gridwidth": 2,
            "linecolor": "white",
            "showbackground": true,
            "ticks": "",
            "zerolinecolor": "white"
           },
           "zaxis": {
            "backgroundcolor": "#E5ECF6",
            "gridcolor": "white",
            "gridwidth": 2,
            "linecolor": "white",
            "showbackground": true,
            "ticks": "",
            "zerolinecolor": "white"
           }
          },
          "shapedefaults": {
           "line": {
            "color": "#2a3f5f"
           }
          },
          "ternary": {
           "aaxis": {
            "gridcolor": "white",
            "linecolor": "white",
            "ticks": ""
           },
           "baxis": {
            "gridcolor": "white",
            "linecolor": "white",
            "ticks": ""
           },
           "bgcolor": "#E5ECF6",
           "caxis": {
            "gridcolor": "white",
            "linecolor": "white",
            "ticks": ""
           }
          },
          "title": {
           "x": 0.05
          },
          "xaxis": {
           "automargin": true,
           "gridcolor": "white",
           "linecolor": "white",
           "ticks": "",
           "title": {
            "standoff": 15
           },
           "zerolinecolor": "white",
           "zerolinewidth": 2
          },
          "yaxis": {
           "automargin": true,
           "gridcolor": "white",
           "linecolor": "white",
           "ticks": "",
           "title": {
            "standoff": 15
           },
           "zerolinecolor": "white",
           "zerolinewidth": 2
          }
         }
        }
       }
      }
     },
     "metadata": {},
     "output_type": "display_data"
    }
   ],
   "source": [
    "clust_data_NBA = y[[\"FG%\", \"PTS\", \"AST\"]]\n",
    "kmeans_obj_NBA = KMeans(n_clusters=3, random_state=1).fit(clust_data_NBA)\n",
    "fig = px.scatter_3d(y, x= \"FG%\", y= \"PTS\", z=\"AST\", color=salary_array, hover_data = [player_array],\n",
    "                    title=\"\")\n",
    "fig.show()"
   ]
  },
  {
   "cell_type": "markdown",
   "metadata": {},
   "source": [
    "Now that we can see our clustering model, we can see which players are underpaid and well-performing that we might want to snag for a good playoff team. What determines desireability here is based off a few things. First, note the color scale. The darker the color, the lower salary the player has. We are also scaling up along Assists, Points, and FG% so the players that are higher on the graph are the ones that are performing better. The players that are lower on the graph are the ones that are performing worse. We don't have distinct clusters, but we have a distinct relationship between salary and performance that we can observe. We are looking for players in the bright-colored area that have darker colors. These are underpaid and well-performing players. For us, our desired players are Tyrese Halliburton, Ja Morany, LaMelo Ball, and Darius Garland. Players we want to avoid are players like Rudy Gobert, Marvin Bagley III, and Deondre Ayton. These players are overpaid and underperforming. If we can't get our desired players, we should try and get Fred VanFleet, Ricky Rubio, or Kevin Porter Jr. These players are underpaid and well-performing, but they are not as good as our desired players."
   ]
  }
 ],
 "metadata": {
  "kernelspec": {
   "display_name": "sklearn-env",
   "language": "python",
   "name": "python3"
  },
  "language_info": {
   "codemirror_mode": {
    "name": "ipython",
    "version": 3
   },
   "file_extension": ".py",
   "mimetype": "text/x-python",
   "name": "python",
   "nbconvert_exporter": "python",
   "pygments_lexer": "ipython3",
   "version": "3.11.5"
  },
  "orig_nbformat": 4
 },
 "nbformat": 4,
 "nbformat_minor": 2
}
