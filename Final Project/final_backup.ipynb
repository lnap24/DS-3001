{
 "cells": [
  {
   "cell_type": "code",
   "execution_count": null,
   "metadata": {},
   "outputs": [],
   "source": [
    "import pandas as pd\n",
    "import numpy as np\n",
    "import plotly.express as px\n",
    "import plotly.graph_objects as go\n",
    "from sklearn.cluster import KMeans\n",
    "from sklearn.model_selection import train_test_split\n",
    "from sklearn.tree import DecisionTreeClassifier\n",
    "from sklearn.metrics import confusion_matrix\n",
    "from sklearn.preprocessing import OrdinalEncoder\n",
    "import os"
   ]
  },
  {
   "cell_type": "code",
   "execution_count": null,
   "metadata": {},
   "outputs": [],
   "source": [
    "water_data = pd.read_csv('/Users/Luke/DS-3001/Final Project/waterpumpdata.csv')\n",
    "\n",
    "water_data.info()"
   ]
  },
  {
   "cell_type": "code",
   "execution_count": null,
   "metadata": {},
   "outputs": [],
   "source": [
    "water_labels = pd.read_csv('/Users/Luke/DS-3001/Final Project/pump_labels.csv')\n",
    "\n",
    "water_labels.info()"
   ]
  },
  {
   "cell_type": "code",
   "execution_count": null,
   "metadata": {},
   "outputs": [],
   "source": [
    "pump_data = pd.merge(water_data, water_labels,  \n",
    "                   on='id',  \n",
    "                   how='inner')\n",
    "\n",
    "pump_data.info()"
   ]
  },
  {
   "cell_type": "code",
   "execution_count": null,
   "metadata": {},
   "outputs": [],
   "source": [
    "pump_data.waterpoint_type_group.value_counts()"
   ]
  },
  {
   "cell_type": "code",
   "execution_count": null,
   "metadata": {},
   "outputs": [],
   "source": [
    "drop = [0,2,6,7,8,9,11,12,13,14,15,16,19,21,24,26,27,30,32,34,35,37,38]\n",
    "pump_data = pump_data.drop(pump_data.columns[drop], axis=1)\n",
    "pump_data.info()"
   ]
  },
  {
   "cell_type": "code",
   "execution_count": null,
   "metadata": {},
   "outputs": [],
   "source": [
    "#Remove 0s in construction_year column\n",
    "\n",
    "pump_data.drop(pump_data[pump_data['construction_year'] == 0].index, inplace=True)\n",
    "\n",
    "pump_data.info()\n"
   ]
  },
  {
   "cell_type": "code",
   "execution_count": null,
   "metadata": {},
   "outputs": [],
   "source": [
    "#Remove NULL Values\n",
    "\n",
    "pump_data.dropna(axis = 0, how = 'any', inplace = True)\n",
    "\n",
    "pump_data.info()"
   ]
  },
  {
   "cell_type": "code",
   "execution_count": null,
   "metadata": {},
   "outputs": [],
   "source": [
    "pump_data['basin'].value_counts()"
   ]
  },
  {
   "cell_type": "code",
   "execution_count": null,
   "metadata": {},
   "outputs": [],
   "source": [
    "def convert_to_binary(value):\n",
    "    if isinstance(value, str) and value.strip() == \"Government of Tanzania\":\n",
    "        return 1\n",
    "    else:\n",
    "        return 0\n",
    "    \n",
    "pump_data['funder'] = pump_data['funder'].apply(lambda x: convert_to_binary(x)) \n"
   ]
  },
  {
   "cell_type": "code",
   "execution_count": null,
   "metadata": {},
   "outputs": [],
   "source": [
    "pump_data['installer'] = (pump_data['installer'].apply(lambda x: x if x == 'DWE' else 'other'))\n",
    "print(pump_data['installer'].value_counts())"
   ]
  },
  {
   "cell_type": "code",
   "execution_count": null,
   "metadata": {},
   "outputs": [],
   "source": [
    "pump_data.head()"
   ]
  },
  {
   "cell_type": "markdown",
   "metadata": {},
   "source": []
  }
 ],
 "metadata": {
  "kernelspec": {
   "display_name": "sklearn-env",
   "language": "python",
   "name": "python3"
  },
  "language_info": {
   "codemirror_mode": {
    "name": "ipython",
    "version": 3
   },
   "file_extension": ".py",
   "mimetype": "text/x-python",
   "name": "python",
   "nbconvert_exporter": "python",
   "pygments_lexer": "ipython3",
   "version": "3.11.5"
  },
  "orig_nbformat": 4
 },
 "nbformat": 4,
 "nbformat_minor": 2
}
